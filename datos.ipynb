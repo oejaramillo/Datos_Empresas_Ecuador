{
 "cells": [
  {
   "cell_type": "code",
   "execution_count": 2,
   "metadata": {},
   "outputs": [],
   "source": [
    "import pandas as pd\n",
    "import numpy as np\n",
    "import os"
   ]
  },
  {
   "cell_type": "code",
   "execution_count": 61,
   "metadata": {},
   "outputs": [],
   "source": [
    "estados = pd.DataFrame()\n",
    "\n",
    "path = '/media/edu/f4b771c7-3249-4558-9253-71690dfee7d0/datos/raw/extraidos/'\n",
    "\n",
    "anos = sorted(os.listdir(path))"
   ]
  },
  {
   "cell_type": "code",
   "execution_count": 62,
   "metadata": {},
   "outputs": [],
   "source": [
    "columnas_fijas = ['AÑO', 'EXPEDIENTE', 'RUC', 'NOMBRE', 'RAMA_ACTIVIDAD', 'DESCRIPCION_RAMA', 'CIIU']"
   ]
  },
  {
   "cell_type": "code",
   "execution_count": 88,
   "metadata": {},
   "outputs": [
    {
     "name": "stdout",
     "output_type": "stream",
     "text": [
      "Trabajando en:  /media/edu/f4b771c7-3249-4558-9253-71690dfee7d0/datos/raw/extraidos/estadosFinancieros_2000\n",
      "Trabajando en: balances_2000_1.txt y el catalogo catalogo_2000_1.txt\n",
      "Estado de las bases: False\n",
      "Guardando base: \n",
      " balances_2000_1.txt\n",
      "Trabajando en: balances_2000_2.txt y el catalogo catalogo_2000_2.txt\n",
      "Estado de las bases: False\n",
      "Guardando base: \n",
      " balances_2000_2.txt\n",
      "Trabajando en: balances_2000_3.txt y el catalogo catalogo_2000_3.txt\n",
      "Estado de las bases: False\n",
      "Guardando base: \n",
      " balances_2000_3.txt\n",
      "Trabajando en: balances_2000_4.txt y el catalogo catalogo_2000_4.txt\n",
      "Estado de las bases: False\n",
      "Guardando base: \n",
      " balances_2000_4.txt\n",
      "Trabajando en: balances_2000_5.txt y el catalogo catalogo_2000_5.txt\n",
      "Estado de las bases: False\n",
      "Guardando base: \n",
      " balances_2000_5.txt\n",
      "Trabajando en: balances_2000_6.txt y el catalogo catalogo_2000_6.txt\n",
      "Estado de las bases: False\n",
      "Guardando base: \n",
      " balances_2000_6.txt\n",
      "Trabajando en: balances_2000_7.txt y el catalogo catalogo_2000_7.txt\n",
      "Estado de las bases: False\n",
      "Guardando base: \n",
      " balances_2000_7.txt\n",
      "Trabajando en:  /media/edu/f4b771c7-3249-4558-9253-71690dfee7d0/datos/raw/extraidos/estadosFinancieros_2001\n",
      "Trabajando en: balances_2001_1.txt y el catalogo catalogo_2001_1.txt\n",
      "Estado de las bases: False\n",
      "Guardando base: \n",
      " balances_2001_1.txt\n",
      "Trabajando en: balances_2001_2.txt y el catalogo catalogo_2001_2.txt\n"
     ]
    },
    {
     "name": "stderr",
     "output_type": "stream",
     "text": [
      "/tmp/ipykernel_84692/2003294485.py:19: DtypeWarning: Columns (44,113,176,177,178) have mixed types. Specify dtype option on import or set low_memory=False.\n",
      "  base = pd.read_csv(base_path, encoding='latin1', sep='\\t')\n"
     ]
    },
    {
     "name": "stdout",
     "output_type": "stream",
     "text": [
      "Estado de las bases: False\n",
      "Guardando base: \n",
      " balances_2001_2.txt\n",
      "Trabajando en: balances_2001_3.txt y el catalogo catalogo_2001_3.txt\n",
      "Estado de las bases: False\n",
      "Guardando base: \n",
      " balances_2001_3.txt\n",
      "Trabajando en: balances_2001_4.txt y el catalogo catalogo_2001_4.txt\n",
      "Estado de las bases: False\n",
      "Guardando base: \n",
      " balances_2001_4.txt\n",
      "Trabajando en: balances_2001_5.txt y el catalogo catalogo_2001_5.txt\n",
      "Estado de las bases: False\n",
      "Guardando base: \n",
      " balances_2001_5.txt\n",
      "Trabajando en: balances_2001_6.txt y el catalogo catalogo_2001_6.txt\n",
      "Estado de las bases: False\n",
      "Guardando base: \n",
      " balances_2001_6.txt\n",
      "Trabajando en:  /media/edu/f4b771c7-3249-4558-9253-71690dfee7d0/datos/raw/extraidos/estadosFinancieros_2002\n",
      "Trabajando en: balances_2002_1.txt y el catalogo catalogo_2002_1.txt\n"
     ]
    },
    {
     "name": "stderr",
     "output_type": "stream",
     "text": [
      "/tmp/ipykernel_84692/2003294485.py:19: DtypeWarning: Columns (33,44,71,113,116,124,126,163,176,178,179,180) have mixed types. Specify dtype option on import or set low_memory=False.\n",
      "  base = pd.read_csv(base_path, encoding='latin1', sep='\\t')\n"
     ]
    },
    {
     "name": "stdout",
     "output_type": "stream",
     "text": [
      "Estado de las bases: False\n",
      "Guardando base: \n",
      " balances_2002_1.txt\n",
      "Trabajando en: balances_2002_2.txt y el catalogo catalogo_2002_2.txt\n",
      "Estado de las bases: False\n",
      "Guardando base: \n",
      " balances_2002_2.txt\n",
      "Trabajando en: balances_2002_3.txt y el catalogo catalogo_2002_3.txt\n",
      "Estado de las bases: False\n",
      "Guardando base: \n",
      " balances_2002_3.txt\n",
      "Trabajando en: balances_2002_4.txt y el catalogo catalogo_2002_4.txt\n",
      "Estado de las bases: False\n",
      "Guardando base: \n",
      " balances_2002_4.txt\n",
      "Trabajando en: balances_2002_5.txt y el catalogo catalogo_2002_5.txt\n",
      "Estado de las bases: False\n",
      "Guardando base: \n",
      " balances_2002_5.txt\n",
      "Trabajando en: balances_2002_6.txt y el catalogo catalogo_2002_6.txt\n",
      "Estado de las bases: False\n",
      "Guardando base: \n",
      " balances_2002_6.txt\n",
      "Trabajando en: balances_2002_7.txt y el catalogo catalogo_2002_7.txt\n",
      "Estado de las bases: False\n",
      "Guardando base: \n",
      " balances_2002_7.txt\n",
      "Trabajando en:  /media/edu/f4b771c7-3249-4558-9253-71690dfee7d0/datos/raw/extraidos/estadosFinancieros_2003\n",
      "Trabajando en: balances_2003_1.txt y el catalogo catalogo_2003_1.txt\n"
     ]
    },
    {
     "name": "stderr",
     "output_type": "stream",
     "text": [
      "/tmp/ipykernel_84692/2003294485.py:19: DtypeWarning: Columns (176,177,178) have mixed types. Specify dtype option on import or set low_memory=False.\n",
      "  base = pd.read_csv(base_path, encoding='latin1', sep='\\t')\n"
     ]
    },
    {
     "name": "stdout",
     "output_type": "stream",
     "text": [
      "Estado de las bases: False\n",
      "Guardando base: \n",
      " balances_2003_1.txt\n",
      "Trabajando en: balances_2003_2.txt y el catalogo catalogo_2003_2.txt\n",
      "Estado de las bases: False\n",
      "Guardando base: \n",
      " balances_2003_2.txt\n",
      "Trabajando en: balances_2003_3.txt y el catalogo catalogo_2003_3.txt\n",
      "Estado de las bases: False\n",
      "Guardando base: \n",
      " balances_2003_3.txt\n",
      "Trabajando en: balances_2003_4.txt y el catalogo catalogo_2003_4.txt\n",
      "Estado de las bases: False\n",
      "Guardando base: \n",
      " balances_2003_4.txt\n",
      "Trabajando en: balances_2003_5.txt y el catalogo catalogo_2003_5.txt\n",
      "Estado de las bases: False\n",
      "Guardando base: \n",
      " balances_2003_5.txt\n",
      "Trabajando en:  /media/edu/f4b771c7-3249-4558-9253-71690dfee7d0/datos/raw/extraidos/estadosFinancieros_2004\n",
      "Trabajando en: balances_2004_1.txt y el catalogo catalogo_2004_1.txt\n",
      "Estado de las bases: False\n",
      "Guardando base: \n",
      " balances_2004_1.txt\n",
      "Trabajando en: balances_2004_2.txt y el catalogo catalogo_2004_2.txt\n"
     ]
    },
    {
     "name": "stderr",
     "output_type": "stream",
     "text": [
      "/tmp/ipykernel_84692/2003294485.py:19: DtypeWarning: Columns (41,48,134,139,188,193,206) have mixed types. Specify dtype option on import or set low_memory=False.\n",
      "  base = pd.read_csv(base_path, encoding='latin1', sep='\\t')\n"
     ]
    },
    {
     "name": "stdout",
     "output_type": "stream",
     "text": [
      "Estado de las bases: False\n",
      "Guardando base: \n",
      " balances_2004_2.txt\n",
      "Trabajando en: balances_2004_3.txt y el catalogo catalogo_2004_3.txt\n",
      "Estado de las bases: False\n",
      "Guardando base: \n",
      " balances_2004_3.txt\n",
      "Trabajando en: balances_2004_4.txt y el catalogo catalogo_2004_4.txt\n",
      "Estado de las bases: False\n",
      "Guardando base: \n",
      " balances_2004_4.txt\n",
      "Trabajando en: balances_2004_5.txt y el catalogo catalogo_2004_5.txt\n",
      "Estado de las bases: False\n",
      "Guardando base: \n",
      " balances_2004_5.txt\n",
      "Trabajando en: balances_2004_6.txt y el catalogo catalogo_2004_6.txt\n",
      "Estado de las bases: False\n",
      "Guardando base: \n",
      " balances_2004_6.txt\n",
      "Trabajando en:  /media/edu/f4b771c7-3249-4558-9253-71690dfee7d0/datos/raw/extraidos/estadosFinancieros_2005\n",
      "Trabajando en: balances_2005_1.txt y el catalogo catalogo_2005_1.txt\n",
      "Estado de las bases: False\n",
      "Guardando base: \n",
      " balances_2005_1.txt\n",
      "Trabajando en: balances_2005_2.txt y el catalogo catalogo_2005_2.txt\n",
      "Estado de las bases: False\n",
      "Guardando base: \n",
      " balances_2005_2.txt\n",
      "Trabajando en: balances_2005_3.txt y el catalogo catalogo_2005_3.txt\n"
     ]
    },
    {
     "name": "stderr",
     "output_type": "stream",
     "text": [
      "/tmp/ipykernel_84692/2003294485.py:19: DtypeWarning: Columns (49,56,187,200,202) have mixed types. Specify dtype option on import or set low_memory=False.\n",
      "  base = pd.read_csv(base_path, encoding='latin1', sep='\\t')\n"
     ]
    },
    {
     "name": "stdout",
     "output_type": "stream",
     "text": [
      "Estado de las bases: False\n",
      "Guardando base: \n",
      " balances_2005_3.txt\n",
      "Trabajando en: balances_2005_4.txt y el catalogo catalogo_2005_4.txt\n",
      "Estado de las bases: False\n",
      "Guardando base: \n",
      " balances_2005_4.txt\n",
      "Trabajando en: balances_2005_5.txt y el catalogo catalogo_2005_5.txt\n",
      "Estado de las bases: False\n",
      "Guardando base: \n",
      " balances_2005_5.txt\n",
      "Trabajando en: balances_2005_6.txt y el catalogo catalogo_2005_6.txt\n",
      "Estado de las bases: False\n",
      "Trabajando en:  /media/edu/f4b771c7-3249-4558-9253-71690dfee7d0/datos/raw/extraidos/estadosFinancieros_2006\n",
      "Trabajando en: balances_2006_1.txt y el catalogo catalogo_2006_1.txt\n",
      "Estado de las bases: False\n",
      "Guardando base: \n",
      " balances_2006_1.txt\n",
      "Trabajando en: balances_2006_2.txt y el catalogo catalogo_2006_2.txt\n"
     ]
    },
    {
     "name": "stderr",
     "output_type": "stream",
     "text": [
      "/tmp/ipykernel_84692/2003294485.py:19: DtypeWarning: Columns (49,56,85,187,200,202) have mixed types. Specify dtype option on import or set low_memory=False.\n",
      "  base = pd.read_csv(base_path, encoding='latin1', sep='\\t')\n"
     ]
    },
    {
     "name": "stdout",
     "output_type": "stream",
     "text": [
      "Estado de las bases: False\n",
      "Guardando base: \n",
      " balances_2006_2.txt\n",
      "Trabajando en: balances_2006_3.txt y el catalogo catalogo_2006_3.txt\n",
      "Estado de las bases: False\n",
      "Guardando base: \n",
      " balances_2006_3.txt\n",
      "Trabajando en: balances_2006_4.txt y el catalogo catalogo_2006_4.txt\n",
      "Estado de las bases: False\n",
      "Guardando base: \n",
      " balances_2006_4.txt\n",
      "Trabajando en:  /media/edu/f4b771c7-3249-4558-9253-71690dfee7d0/datos/raw/extraidos/estadosFinancieros_2007\n",
      "Trabajando en: balances_2007_1.txt y el catalogo catalogo_2007_1.txt\n",
      "Estado de las bases: False\n",
      "Guardando base: \n",
      " balances_2007_1.txt\n",
      "Trabajando en: balances_2007_2.txt y el catalogo catalogo_2007_2.txt\n"
     ]
    },
    {
     "name": "stderr",
     "output_type": "stream",
     "text": [
      "/tmp/ipykernel_84692/2003294485.py:19: DtypeWarning: Columns (7,8,9,49,53,54,56,63,67,75,80,85,88,89,95,96,98,114,115,118,134,140,152,171,182,183,185,186,187,188,190,191,199,200,201) have mixed types. Specify dtype option on import or set low_memory=False.\n",
      "  base = pd.read_csv(base_path, encoding='latin1', sep='\\t')\n"
     ]
    },
    {
     "name": "stdout",
     "output_type": "stream",
     "text": [
      "Estado de las bases: False\n",
      "Guardando base: \n",
      " balances_2007_2.txt\n",
      "Trabajando en: balances_2007_3.txt y el catalogo catalogo_2007_3.txt\n"
     ]
    },
    {
     "name": "stderr",
     "output_type": "stream",
     "text": [
      "/tmp/ipykernel_84692/2003294485.py:19: DtypeWarning: Columns (21,52,54,55,58,60,61,66,72,74,76,85,89,95,100,124,135,141,168,169,170,181,184,188,189,195,197,198,199,202,222,223,224,231,235,236,244,249) have mixed types. Specify dtype option on import or set low_memory=False.\n",
      "  base = pd.read_csv(base_path, encoding='latin1', sep='\\t')\n"
     ]
    },
    {
     "name": "stdout",
     "output_type": "stream",
     "text": [
      "Estado de las bases: False\n",
      "Guardando base: \n",
      " balances_2007_3.txt\n",
      "Trabajando en: balances_2007_4.txt y el catalogo catalogo_2007_4.txt\n",
      "Estado de las bases: False\n",
      "Guardando base: \n",
      " balances_2007_4.txt\n",
      "Trabajando en:  /media/edu/f4b771c7-3249-4558-9253-71690dfee7d0/datos/raw/extraidos/estadosFinancieros_2008\n",
      "Trabajando en: balances_2008_1.txt y el catalogo catalogo_2008_1.txt\n",
      "Estado de las bases: False\n",
      "Guardando base: \n",
      " balances_2008_1.txt\n",
      "Trabajando en: balances_2008_2.txt y el catalogo catalogo_2008_2.txt\n"
     ]
    },
    {
     "name": "stderr",
     "output_type": "stream",
     "text": [
      "/tmp/ipykernel_84692/2003294485.py:19: DtypeWarning: Columns (7,8,9,10,11,21,35,54,56,58,60,61,70,79,85,87,93,96,97,99,123,124,125,127,129,141,167,169,174,176,177,180,184,185,188,192,193,194,196,197,198,202,222,231,238,239,249,250,251,252) have mixed types. Specify dtype option on import or set low_memory=False.\n",
      "  base = pd.read_csv(base_path, encoding='latin1', sep='\\t')\n"
     ]
    },
    {
     "name": "stdout",
     "output_type": "stream",
     "text": [
      "Estado de las bases: False\n",
      "Guardando base: \n",
      " balances_2008_2.txt\n",
      "Trabajando en: balances_2008_3.txt y el catalogo catalogo_2008_3.txt\n"
     ]
    },
    {
     "name": "stderr",
     "output_type": "stream",
     "text": [
      "/tmp/ipykernel_84692/2003294485.py:19: DtypeWarning: Columns (7,8,10,11,54,60,70,79,95,96,97,99,100,125,129,139,180,189,192,193,194,196,198,202,203,222) have mixed types. Specify dtype option on import or set low_memory=False.\n",
      "  base = pd.read_csv(base_path, encoding='latin1', sep='\\t')\n"
     ]
    },
    {
     "name": "stdout",
     "output_type": "stream",
     "text": [
      "Estado de las bases: False\n",
      "Guardando base: \n",
      " balances_2008_3.txt\n",
      "Trabajando en: balances_2008_4.txt y el catalogo catalogo_2008_4.txt\n",
      "Estado de las bases: False\n",
      "Trabajando en:  /media/edu/f4b771c7-3249-4558-9253-71690dfee7d0/datos/raw/extraidos/estadosFinancieros_2009\n",
      "Trabajando en: balances_2009_1.txt y el catalogo catalogo_2009_1.txt\n",
      "Estado de las bases: False\n",
      "Guardando base: \n",
      " balances_2009_1.txt\n",
      "Trabajando en: balances_2009_2.txt y el catalogo catalogo_2009_2.txt\n",
      "Estado de las bases: False\n",
      "Guardando base: \n",
      " balances_2009_2.txt\n",
      "Trabajando en: balances_2009_3.txt y el catalogo catalogo_2009_3.txt\n"
     ]
    },
    {
     "name": "stderr",
     "output_type": "stream",
     "text": [
      "/tmp/ipykernel_84692/2003294485.py:19: DtypeWarning: Columns (7,8,9,10,11,15,19,52,54,56,58,59,60,66,70,79,85,87,89,93,96,98,99,100,111,120,124,125,127,129,153,154,167,168,169,170,172,175,176,177,180,181,184,185,188,189,190,192,193,194,195,196,197,202,203,222,223,224,231,234,235,236,237,238,239,241,249,250,251,252) have mixed types. Specify dtype option on import or set low_memory=False.\n",
      "  base = pd.read_csv(base_path, encoding='latin1', sep='\\t')\n"
     ]
    },
    {
     "name": "stdout",
     "output_type": "stream",
     "text": [
      "Estado de las bases: False\n",
      "Guardando base: \n",
      " balances_2009_3.txt\n",
      "Trabajando en: balances_2009_4.txt y el catalogo catalogo_2009_4.txt\n"
     ]
    },
    {
     "name": "stderr",
     "output_type": "stream",
     "text": [
      "/tmp/ipykernel_84692/2003294485.py:19: DtypeWarning: Columns (8,10,11,60,79,96,99,100,125,127,188,192,193,194,196,202) have mixed types. Specify dtype option on import or set low_memory=False.\n",
      "  base = pd.read_csv(base_path, encoding='latin1', sep='\\t')\n"
     ]
    },
    {
     "name": "stdout",
     "output_type": "stream",
     "text": [
      "Estado de las bases: False\n",
      "Guardando base: \n",
      " balances_2009_4.txt\n",
      "Trabajando en: balances_2009_5.txt y el catalogo catalogo_2009_5.txt\n",
      "Estado de las bases: False\n",
      "Trabajando en: balances_2009_6.txt y el catalogo catalogo_2009_6.txt\n",
      "Estado de las bases: False\n",
      "Guardando base: \n",
      " balances_2009_6.txt\n",
      "Trabajando en:  /media/edu/f4b771c7-3249-4558-9253-71690dfee7d0/datos/raw/extraidos/estadosFinancieros_2010\n",
      "Trabajando en: balances_2010_1.txt y el catalogo catalogo_2010_1.txt\n",
      "Estado de las bases: False\n",
      "Guardando base: \n",
      " balances_2010_1.txt\n",
      "Trabajando en: balances_2010_2.txt y el catalogo catalogo_2010_2.txt\n",
      "Estado de las bases: False\n",
      "Guardando base: \n",
      " balances_2010_2.txt\n",
      "Trabajando en: balances_2010_3.txt y el catalogo catalogo_2010_3.txt\n"
     ]
    },
    {
     "name": "stderr",
     "output_type": "stream",
     "text": [
      "/tmp/ipykernel_84692/2003294485.py:19: DtypeWarning: Columns (54,56,60,96,125,126,127,176,177,180,184,188,190,192,194,196,202,222) have mixed types. Specify dtype option on import or set low_memory=False.\n",
      "  base = pd.read_csv(base_path, encoding='latin1', sep='\\t')\n"
     ]
    },
    {
     "name": "stdout",
     "output_type": "stream",
     "text": [
      "Estado de las bases: False\n",
      "Guardando base: \n",
      " balances_2010_3.txt\n",
      "Trabajando en: balances_2010_4.txt y el catalogo catalogo_2010_4.txt\n",
      "Estado de las bases: False\n",
      "Guardando base: \n",
      " balances_2010_4.txt\n",
      "Trabajando en: balances_2010_5.txt y el catalogo catalogo_2010_5.txt\n",
      "Estado de las bases: False\n",
      "Guardando base: \n",
      " balances_2010_5.txt\n",
      "Trabajando en:  /media/edu/f4b771c7-3249-4558-9253-71690dfee7d0/datos/raw/extraidos/estadosFinancieros_2011\n",
      "Trabajando en: balances_2011_1.txt y el catalogo catalogo_2011_1.txt\n",
      "Estado de las bases: False\n",
      "Guardando base: \n",
      " balances_2011_1.txt\n",
      "Trabajando en: balances_2011_2.txt y el catalogo catalogo_2011_2.txt\n"
     ]
    },
    {
     "name": "stderr",
     "output_type": "stream",
     "text": [
      "/tmp/ipykernel_84692/2003294485.py:19: DtypeWarning: Columns (7,8,10,53,54,56,58,60,79,96,125,127,174,176,177,180,184,188,192,194,202) have mixed types. Specify dtype option on import or set low_memory=False.\n",
      "  base = pd.read_csv(base_path, encoding='latin1', sep='\\t')\n"
     ]
    },
    {
     "name": "stdout",
     "output_type": "stream",
     "text": [
      "Estado de las bases: False\n",
      "Guardando base: \n",
      " balances_2011_2.txt\n",
      "Trabajando en: balances_2011_3.txt y el catalogo catalogo_2011_3.txt\n"
     ]
    },
    {
     "name": "stderr",
     "output_type": "stream",
     "text": [
      "/tmp/ipykernel_84692/2003294485.py:19: DtypeWarning: Columns (14,62,67,69,74,76,86,88,94,151,160,161,173,181,186,187,212,242,247,254,257,293,295,298,324,325,326,328,337,338,339) have mixed types. Specify dtype option on import or set low_memory=False.\n",
      "  base = pd.read_csv(base_path, encoding='latin1', sep='\\t')\n"
     ]
    },
    {
     "name": "stdout",
     "output_type": "stream",
     "text": [
      "Estado de las bases: False\n",
      "Guardando base: \n",
      " balances_2011_3.txt\n",
      "Trabajando en: balances_2011_4.txt y el catalogo catalogo_2011_4.txt\n",
      "Estado de las bases: False\n",
      "Guardando base: \n",
      " balances_2011_4.txt\n",
      "Trabajando en: balances_2011_5.txt y el catalogo catalogo_2011_5.txt\n"
     ]
    },
    {
     "name": "stderr",
     "output_type": "stream",
     "text": [
      "/tmp/ipykernel_84692/2003294485.py:19: DtypeWarning: Columns (14,31,33,38,56,60,62,73,74,75,77,84,91,101,102,112,123,129,155,160,162,163,169,170,171,179,180,183,188,189,191,211,218,221,222,223,224,236,242,248,251,252,253,254,255,256,257,261,295,299,302,303,313,323,334,335,336,337,338,339,349,350,352) have mixed types. Specify dtype option on import or set low_memory=False.\n",
      "  base = pd.read_csv(base_path, encoding='latin1', sep='\\t')\n"
     ]
    },
    {
     "name": "stdout",
     "output_type": "stream",
     "text": [
      "Estado de las bases: False\n",
      "Guardando base: \n",
      " balances_2011_5.txt\n",
      "Trabajando en: balances_2011_6.txt y el catalogo catalogo_2011_6.txt\n",
      "Estado de las bases: False\n",
      "Guardando base: \n",
      " balances_2011_6.txt\n",
      "Trabajando en:  /media/edu/f4b771c7-3249-4558-9253-71690dfee7d0/datos/raw/extraidos/estadosFinancieros_2012\n",
      "Trabajando en: balances_2012_1.txt y el catalogo catalogo_2012_1.txt\n"
     ]
    },
    {
     "name": "stderr",
     "output_type": "stream",
     "text": [
      "/tmp/ipykernel_84692/2003294485.py:19: DtypeWarning: Columns (14,31,32,35,45,56,65,66,70,71,73,74,78,80,84,88,89,91,95,97,102,111,112,123,129,135,139,155,160,162,163,169,170,171,180,181,190,191,194,196,197,203,207,218,221,222,223,224,251,255,256,257,259,260,262,263,287,293,294,295,297,299,301,302,303,309,310,313,322,323,331,332,334,335,336,337,338,339,340,341,343,344,349,350) have mixed types. Specify dtype option on import or set low_memory=False.\n",
      "  base = pd.read_csv(base_path, encoding='latin1', sep='\\t')\n"
     ]
    },
    {
     "name": "stdout",
     "output_type": "stream",
     "text": [
      "Estado de las bases: False\n",
      "Guardando base: \n",
      " balances_2012_1.txt\n",
      "Trabajando en: balances_2012_2.txt y el catalogo catalogo_2012_2.txt\n",
      "Estado de las bases: False\n",
      "Guardando base: \n",
      " balances_2012_2.txt\n",
      "Trabajando en: balances_2012_3.txt y el catalogo catalogo_2012_3.txt\n",
      "Estado de las bases: False\n",
      "Guardando base: \n",
      " balances_2012_3.txt\n",
      "Trabajando en: balances_2012_4.txt y el catalogo catalogo_2012_4.txt\n",
      "Estado de las bases: False\n",
      "Guardando base: \n",
      " balances_2012_4.txt\n",
      "Trabajando en:  /media/edu/f4b771c7-3249-4558-9253-71690dfee7d0/datos/raw/extraidos/estadosFinancieros_2013\n",
      "Trabajando en: balances_2013_1.txt y el catalogo catalogo_2013_1.txt\n"
     ]
    },
    {
     "name": "stderr",
     "output_type": "stream",
     "text": [
      "/tmp/ipykernel_84692/2003294485.py:19: DtypeWarning: Columns (14,31,32,44,45,65,66,71,73,74,77,78,80,84,86,88,89,91,93,94,95,97,102,111,112,123,129,135,139,147,155,159,160,161,162,163,168,169,170,171,180,181,190,191,194,196,197,207,211,218,221,222,223,224,251,256,257,259,261,262,263,277,287,294,295,299,301,302,303,309,310,321,323,331,332,334,335,336,337,338,339,340,341,343,344,345,346,347,348,349,350,352) have mixed types. Specify dtype option on import or set low_memory=False.\n",
      "  base = pd.read_csv(base_path, encoding='latin1', sep='\\t')\n"
     ]
    },
    {
     "name": "stdout",
     "output_type": "stream",
     "text": [
      "Estado de las bases: False\n",
      "Guardando base: \n",
      " balances_2013_1.txt\n",
      "Trabajando en: balances_2013_2.txt y el catalogo catalogo_2013_2.txt\n",
      "Estado de las bases: False\n",
      "Guardando base: \n",
      " balances_2013_2.txt\n",
      "Trabajando en: balances_2013_3.txt y el catalogo catalogo_2013_3.txt\n",
      "Estado de las bases: False\n",
      "Guardando base: \n",
      " balances_2013_3.txt\n",
      "Trabajando en:  /media/edu/f4b771c7-3249-4558-9253-71690dfee7d0/datos/raw/extraidos/estadosFinancieros_2014\n",
      "Trabajando en: balances_2014_1.txt y el catalogo catalogo_2014_1.txt\n",
      "Estado de las bases: False\n",
      "Guardando base: \n",
      " balances_2014_1.txt\n",
      "Trabajando en: balances_2014_2.txt y el catalogo catalogo_2014_2.txt\n"
     ]
    },
    {
     "name": "stderr",
     "output_type": "stream",
     "text": [
      "/tmp/ipykernel_84692/2003294485.py:19: DtypeWarning: Columns (7,10,17,37,42,43,54,58,59,60,62,63,65,66,73,76,77,80,81,82,84,86,87,88,92,109,116,123,133,134,135,136,137,153,155,156,157,161,162,163,168,169,170,176,178,179,180,182,183,184,187,188,190,191,192,193,194,201,204,208,209,210,212,214,230,252,257,258,259,260,261,262,263,266,268,269,270,271,275,277,281,282,283,284,287,288,289,293,294,295,296,297,298,299,301,305,306,307,311,312,313,326,330,332,333,334,335,336,337,338,339,341,354,357,358,359,360,361,362,364,365,374,377,378,379,382,385,386,394,402,403,404,405,406,407,408,409,414) have mixed types. Specify dtype option on import or set low_memory=False.\n",
      "  base = pd.read_csv(base_path, encoding='latin1', sep='\\t')\n"
     ]
    },
    {
     "name": "stdout",
     "output_type": "stream",
     "text": [
      "Estado de las bases: False\n",
      "Trabajando en: balances_2014_3.txt y el catalogo catalogo_2014_3.txt\n",
      "Estado de las bases: False\n",
      "Guardando base: \n",
      " balances_2014_3.txt\n"
     ]
    },
    {
     "name": "stderr",
     "output_type": "stream",
     "text": [
      "/tmp/ipykernel_84692/2003294485.py:19: DtypeWarning: Columns (11,12,13,40,42,43,49,51,52,55,56,58,60,61,62,63,65,66,68,70,71,73,76,77,78,79,80,81,82,86,87,88,89,91,92,95,98,99,100,102,103,104,105,108,109,110,117,118,119,120,121,123,124,128,132,133,134,137,138,139,142,144,146,149,151,153,155,156,157,159,160,161,163,175,177,183,185,186,187,189,192,195,198,200,202,203,204,206,209,210,211,212,214,216,220,225,228,229,230,231,232,235,237,239,241,242,243,246,247,248,249,255,258,260,261,262,264,267,271,272,273,276,278,280,283,284,286,288,290,291,296,298,299,302,303,304,306,310,314,316,320,321,324,326,332,356,372,380,381,384,388,391,396,408,412,413,426,428,429,430,434,435,436,437,446,449,452,453,454,455,458,459,460,461,462,463,464,466,468,469,471,472,474,475,477,479,482,484,485,487,488,489,490,493,494,495,497,503,512,514,517,518,519,521,522,535,536,538,541,542,548,557,558,560,561,579,580,581,586,588,589,590,591,592,594,595,596,597,599,600,601,602,603,605,606,607,611,612,617,619,620,621,624,626,627,628,632,633,638,639,644,645,646,647,648,649,650,651,652,653,655,657,658,659,662,666,667,670,671,674,678,684,686,687,690,694,696,698,699,702,704,705,706,707,714,715,719,740,742,748,749,756,760,762,763,765,769,775,785,787,788,789,790,796) have mixed types. Specify dtype option on import or set low_memory=False.\n",
      "  base = pd.read_csv(base_path, encoding='latin1', sep='\\t')\n"
     ]
    },
    {
     "name": "stdout",
     "output_type": "stream",
     "text": [
      "Trabajando en: balances_2014_4.txt y el catalogo catalogo_2014_4.txt\n",
      "Estado de las bases: False\n",
      "Guardando base: \n",
      " balances_2014_4.txt\n",
      "Trabajando en: balances_2014_5.txt y el catalogo catalogo_2014_5.txt\n"
     ]
    },
    {
     "name": "stderr",
     "output_type": "stream",
     "text": [
      "/tmp/ipykernel_84692/2003294485.py:19: DtypeWarning: Columns (10,11,13,39,47,49,53,58,59,60,61,64,65,72,73,75,89,91,92,93,95,97,102,103,104,108,112,113,115,119,120,122,123,124,127,128,136,138,141,142,143,145,146,147,150,151,154,155,156,157,158,160,164,166,167,169,170,171,174,175,179,182,183,190,200,202,206,211,213,224,230,238,239,240,243,245,246,252,255,259,263,264,280,282,283,289,290,291,292,296,302,307,311,312,315,318,320,330,334,339,346,364,372,374,375,378,384,385,395,397,402,406,410,419,422,424,426,430,431,433,435,437,438,440,441,450,455,462,463,464,468,469,472,481,487,488,490,491,493,497,500,504,506,507,509,511,513,521,524,525,534,542,546,547,548,549,552,555,556,567,578,581,582,584,586,588,590,592,593,600,615,620,621,622,623,627,635,639,640,642,643,645,646,650,651,652,654,660,665,666,669,675,679,680,682,683,686,687,688,690,691,692,694,696,699,707,708,709,710,711,714,726,727,728,729,730,731,733,746,748,749,750,751,752,768,771,772,776,777,792,796,806,820,821,822,823) have mixed types. Specify dtype option on import or set low_memory=False.\n",
      "  base = pd.read_csv(base_path, encoding='latin1', sep='\\t')\n",
      "/tmp/ipykernel_84692/2003294485.py:19: DtypeWarning: Columns (7,12,14,45,49,52,57,58,59,60,71,72,76,79,80,82,89,91,95,96,116,119,121,123,125,127,128,135,136,137,140,142,151,152,153,157,160,162,167,171,174,178,179,182,183,184,202,206,219,221,229,240,242,246,250,255,257,281,282,283,291,292,294,297,303,309,311,313,318,320,322,330,331,334,339,340,341,364,378,387,398,400,410,415,422,426,427,432,435,437,442,450,455,458,470,485,494,503,504,505,506,511,513,514,521,525,527,533,542,549,554,566,567,568,586,591,594,601,616,623,632,638,641,648,661,670,675,676,677,680,683,687,689,692,696,700,704,715,732,754,755,762,767,775,783,793,798,807,817,831,832,834) have mixed types. Specify dtype option on import or set low_memory=False.\n",
      "  base = pd.read_csv(base_path, encoding='latin1', sep='\\t')\n"
     ]
    },
    {
     "name": "stdout",
     "output_type": "stream",
     "text": [
      "Estado de las bases: False\n",
      "Guardando base: \n",
      " balances_2014_5.txt\n",
      "Trabajando en: balances_2014_6.txt y el catalogo catalogo_2014_6.txt\n",
      "Estado de las bases: False\n",
      "Guardando base: \n",
      " balances_2014_6.txt\n",
      "Trabajando en: balances_2014_7.txt y el catalogo catalogo_2014_7.txt\n",
      "Estado de las bases: False\n",
      "Guardando base: \n",
      " balances_2014_7.txt\n",
      "Trabajando en: balances_2014_8.txt y el catalogo catalogo_2014_8.txt\n",
      "Estado de las bases: False\n",
      "Guardando base: \n",
      " balances_2014_8.txt\n",
      "Trabajando en:  /media/edu/f4b771c7-3249-4558-9253-71690dfee7d0/datos/raw/extraidos/estadosFinancieros_2015\n",
      "Trabajando en: balances_2015_1.txt y el catalogo catalogo_2015_1.txt\n",
      "Estado de las bases: False\n",
      "Guardando base: \n",
      " balances_2015_1.txt\n",
      "Trabajando en: balances_2015_2.txt y el catalogo catalogo_2015_2.txt\n",
      "Estado de las bases: False\n",
      "Trabajando en: balances_2015_3.txt y el catalogo catalogo_2015_3.txt\n"
     ]
    },
    {
     "name": "stderr",
     "output_type": "stream",
     "text": [
      "/tmp/ipykernel_84692/2003294485.py:19: DtypeWarning: Columns (7,8,9,10,11,12,13,14,40,42,45,46,47,49,51,52,53,55,56,57,58,61,62,66,67,68,69,70,71,72,73,74,75,76,77,78,79,81,86,88,89,90,92,93,94,95,99,100,101,102,103,104,105,108,109,110,112,113,115,116,117,118,119,120,121,122,123,124,126,127,128,129,130,131,132,133,134,135,136,137,138,139,140,141,142,143,144,145,146,147,148,149,150,151,152,154,155,156,157,158,159,160,161,162,163,164,167,168,169,170,171,172,173,174,175,176,177,178,179,180,181,182,183,185,187,189,191,192,193,194,195,197,198,199,201,203,204,205,206,207,211,213,214,215,216,217,218,219,222,223,224,227,228,229,230,233,234,235,236,237,238,239,240,242,243,244,245,246,247,248,249,250,251,252,253,254,255,256,257,258,259,260,261,262,264,265,272,273,274,275,276,277,280,283,284,285,286,287,288,289,290,291,292,295,296,297,299,301,303,305,306,307,308,309,311,312,313,314,315,316,317,318,320,321,322,323,324,325,326,327,328,329,330,331,332,333,334,335,336,337,338,339,340,341,342,343,344,345,346,347,348,350,351,352,354,355,356,357,358,359,360,362,363,364,366,367,368,369,370,372,373,374,375,376,377,378,379,380,381,382,384,385,386,387,388,389,391,392,393,394,396,397,398,399,400,401,402,403,404,405,406,408,409,410,411,413,414,415,416,417,418,419,420,421,422,423,424,425,426,427,428,429,430,431,432,433,434,435,436,437,438,439,440,441,442,443,444,448,449,450,451,452,453,454,455,456,457,458,459,460,461,462,463,464,465,468,471,474,475,477,478,480,481,482,483,484,485,486,488,489,490,491,492,493,494,495,496,497,498,499,500,501,502,503,504,505,506,507,508,510,511,512,513,514,515,516,517,518,519,520,521,522,523,524,525,526,527,528,532,533,535,536,537,539,540,541,542,543,544,545,546,547,548,549,550,551,552,553,554,555,556,557,558,559,560,561,562,563,564,565,566,567,568,569,570,571,572,573,574,575,576,577,578,579,581,582,583,584,585,586,587,589,591,592,593,594,595,597,599,600,602,603,604,605,607,608,609,610,613,614,615,616,617,620,621,622,623,624,625,626,628,629,630,631,632,633,634,635,636,637,638,640,641,642,643,644,645,646,647,649,650,652,653,654,659,660,661,662,663,664,665,667,668,669,671,672,673,674,675,676,677,679,680,681,682,683,684,685,686,687,688,689,690,691,692,693,694,695,696,697,698,699,700,701,702,703,704,705,706,707,714,717,718,719,720,721,722,723,724,725,726,727,728,729,730,731,732,733,734,735,736,737,738,739,740,741,742,745,746,749,757,758,759,760,761,762,763,766,767,772,777,778,779,780,781,782,783,784,787,788,789,790,795,796,797,798,808,809,810,811) have mixed types. Specify dtype option on import or set low_memory=False.\n",
      "  base = pd.read_csv(base_path, encoding='latin1', sep='\\t')\n"
     ]
    },
    {
     "name": "stdout",
     "output_type": "stream",
     "text": [
      "Estado de las bases: False\n",
      "Guardando base: \n",
      " balances_2015_3.txt\n",
      "Trabajando en: balances_2015_4.txt y el catalogo catalogo_2015_4.txt\n"
     ]
    },
    {
     "name": "stderr",
     "output_type": "stream",
     "text": [
      "/tmp/ipykernel_84692/2003294485.py:19: DtypeWarning: Columns (7,8,10,11,12,13,14,39,45,47,49,50,52,53,55,56,58,59,60,71,72,73,74,75,76,77,79,80,81,82,91,92,93,95,96,97,102,103,104,106,107,108,113,116,119,120,121,122,123,124,125,128,129,130,131,132,133,134,135,136,137,138,140,141,142,143,144,145,146,147,148,149,150,151,152,154,155,157,159,160,161,162,163,164,167,168,169,171,174,175,178,179,180,182,183,184,186,188,189,190,199,200,202,204,206,208,211,212,213,217,219,221,222,223,224,228,229,230,234,236,238,240,242,243,244,246,248,249,250,251,255,256,260,262,264,266,267,270,278,280,281,282,283,286,289,290,291,292,293,294,295,297,298,301,302,303,305,307,309,311,312,317,320,322,324,330,331,332,334,335,336,338,339,340,342,343,344,346,350,352,360,361,362,372,376,378,379,380,381,382,384,386,387,388,392,393,394,397,398,402,406,410,415,419,420,422,426,430,432,433,434,435,437,438,443,446,447,450,451,455,457,458,462,464,466,472,478,481,484,487,488,491,493,496,499,502,504,505,507,509,511,512,513,514,519,521,522,524,527,529,531,533,534,540,541,542,544,546,547,548,549,552,554,555,556,558,560,564,565,566,567,568,569,570,573,579,581,582,584,586,588,589,590,591,592,594,600,606,610,614,615,616,618,620,621,622,623,627,629,630,635,636,637,638,639,641,642,643,644,647,648,649,650,651,653,656,659,660,661,666,670,674,675,678,679,681,682,683,684,686,687,688,689,690,691,692,695,696,697,699,700,702,703,704,707,708,709,713,714,726,727,729,730,731,732,738,739,740,741,746,747,748,749,750,751,752,764,767,768,769,771,772,776,777,782,787,788,789,792,794,798,806,818,819,820,821,822,823) have mixed types. Specify dtype option on import or set low_memory=False.\n",
      "  base = pd.read_csv(base_path, encoding='latin1', sep='\\t')\n"
     ]
    },
    {
     "name": "stdout",
     "output_type": "stream",
     "text": [
      "Estado de las bases: False\n",
      "Guardando base: \n",
      " balances_2015_4.txt\n",
      "Trabajando en: balances_2015_5.txt y el catalogo catalogo_2015_5.txt\n"
     ]
    },
    {
     "name": "stderr",
     "output_type": "stream",
     "text": [
      "/tmp/ipykernel_84692/2003294485.py:19: DtypeWarning: Columns (7,8,10,11,12,13,39,40,42,45,46,50,52,53,54,55,57,58,59,60,66,71,72,73,74,75,76,78,79,81,82,83,89,91,93,95,96,97,102,103,105,106,107,108,111,113,115,116,118,119,120,121,122,123,124,125,127,128,130,131,132,135,136,137,139,140,141,142,143,144,145,146,147,148,150,152,153,157,159,160,161,162,163,167,168,169,171,174,178,179,181,182,183,184,190,192,198,199,201,202,204,207,208,209,213,217,219,221,223,224,226,228,229,230,234,235,236,238,240,241,242,243,245,246,247,248,250,252,255,256,257,263,264,266,267,270,273,280,281,282,283,286,289,291,292,297,298,301,302,303,305,307,309,311,312,314,320,322,324,326,327,330,331,332,338,339,340,342,343,350,352,362,372,378,380,382,387,392,393,394,398,399,400,402,406,410,415,416,420,422,426,430,431,432,434,435,437,438,440,441,442,443,446,447,450,455,457,458,460,462,463,465,466,467,468,469,470,471,472,475,478,481,484,485,486,487,488,490,491,493,496,497,499,502,503,504,505,509,510,511,513,514,519,521,522,523,524,525,527,528,529,534,540,542,544,545,546,547,554,555,558,559,564,565,566,567,568,569,575,577,579,584,586,588,592,593,596,598,601,607,616,621,623,628,629,630,632,634,635,636,638,640,641,642,646,648,650,654,657,661,666,667,675,679,680,681,682,683,684,687,688,690,691,696,700,701,702,703,707,708,709,710,711,712,713,721,725,729,730,731,732,733,734,741,743,744,745,746,749,750,751,753,754,767,772,775,779,780,783,784,787,788,793,798,803,806,807,809,811,817,831,832,833,834) have mixed types. Specify dtype option on import or set low_memory=False.\n",
      "  base = pd.read_csv(base_path, encoding='latin1', sep='\\t')\n"
     ]
    },
    {
     "name": "stdout",
     "output_type": "stream",
     "text": [
      "Estado de las bases: False\n",
      "Guardando base: \n",
      " balances_2015_5.txt\n",
      "Trabajando en: balances_2015_6.txt y el catalogo catalogo_2015_6.txt\n",
      "Estado de las bases: False\n",
      "Guardando base: \n",
      " balances_2015_6.txt\n",
      "Trabajando en: balances_2015_7.txt y el catalogo catalogo_2015_7.txt\n",
      "Estado de las bases: False\n",
      "Guardando base: \n",
      " balances_2015_7.txt\n",
      "Trabajando en: balances_2015_8.txt y el catalogo catalogo_2015_8.txt\n",
      "Estado de las bases: False\n",
      "Guardando base: \n",
      " balances_2015_8.txt\n",
      "Trabajando en:  /media/edu/f4b771c7-3249-4558-9253-71690dfee7d0/datos/raw/extraidos/estadosFinancieros_2016\n",
      "Trabajando en: balances_2016_1.txt y el catalogo catalogo_2016_1.txt\n",
      "Estado de las bases: False\n",
      "Guardando base: \n",
      " balances_2016_1.txt\n",
      "Trabajando en: balances_2016_2.txt y el catalogo catalogo_2016_2.txt\n",
      "Estado de las bases: False\n",
      "Guardando base: \n",
      " balances_2016_2.txt\n"
     ]
    },
    {
     "name": "stderr",
     "output_type": "stream",
     "text": [
      "/tmp/ipykernel_84692/2003294485.py:19: DtypeWarning: Columns (7,10,11,42,45,46,47,51,54,55,57,64,68,69,70,71,72,79,88,90,92,99,100,102,103,105,113,116,118,120,122,123,128,133,138,140,148,151,155,156,160,161,162,163,167,175,176,179,181,182,195,204,230,232,234,237,240,246,249,254,257,260,261,275,276,277,285,286,291,295,296,297,301,303,306,310,314,320,321,326,330,336,337,340,346,366,372,374,375,376,381,384,386,404,409,414,422,426,428,429,431,436,450,451,455,456,458,459,460,461,463,474,478,481,484,486,487,489,492,496,502,503,504,512,513,518,520,527,535,539,540,541,547,548,553,557,560,561,563,570,572,574,579,581,583,585,586,593,603,609,613,624,625,630,632,635,640,641,644,646,659,663,667,668,675,679,680,685,687,688,689,695,696,697,702,707,714,718,719,722,723,724,725,731,732,733,741,745,746,762,766,767,782,793,796,810) have mixed types. Specify dtype option on import or set low_memory=False.\n",
      "  base = pd.read_csv(base_path, encoding='latin1', sep='\\t')\n"
     ]
    },
    {
     "name": "stdout",
     "output_type": "stream",
     "text": [
      "Trabajando en: balances_2016_3.txt y el catalogo catalogo_2016_3.txt\n"
     ]
    },
    {
     "name": "stderr",
     "output_type": "stream",
     "text": [
      "/tmp/ipykernel_84692/2003294485.py:19: DtypeWarning: Columns (7,8,9,10,12,13,14,39,40,42,45,46,47,49,50,52,53,54,55,56,57,58,59,60,66,67,71,72,73,74,75,76,77,78,79,80,81,82,89,91,92,93,95,96,97,98,102,103,104,105,106,107,108,111,113,115,116,118,119,120,121,122,123,124,125,127,128,129,130,131,132,133,134,135,136,137,138,140,141,142,143,144,146,147,148,149,150,151,152,153,154,155,156,157,158,160,161,162,163,164,165,166,169,170,171,174,175,176,177,178,179,180,181,182,183,184,185,186,187,188,189,190,192,198,199,200,202,204,206,207,208,211,212,213,217,219,220,221,222,223,224,225,228,230,234,236,238,240,242,243,244,245,246,247,248,249,250,251,253,255,256,257,258,259,260,261,262,263,264,265,266,267,270,271,279,280,281,282,283,285,286,289,290,291,292,293,294,295,296,297,298,301,302,303,305,307,309,311,312,313,314,315,317,318,319,320,321,322,323,324,325,326,327,328,329,330,331,332,333,334,335,336,338,339,340,341,342,343,344,345,346,347,348,350,351,352,353,356,358,359,360,361,362,363,364,365,366,368,369,370,372,373,374,375,376,377,378,379,380,381,382,383,384,385,386,387,388,389,390,391,392,393,394,395,397,398,399,400,402,403,404,406,407,408,410,411,412,415,416,417,419,420,422,423,424,425,426,428,429,430,431,432,433,434,435,436,437,438,440,441,442,443,446,447,448,449,450,451,455,457,458,460,462,463,464,465,466,467,468,469,471,472,478,481,482,484,485,487,488,489,490,492,493,496,499,502,503,504,505,506,507,508,509,510,511,512,513,514,516,517,518,519,520,521,522,523,524,525,526,527,528,529,530,531,532,533,534,535,536,537,539,540,541,542,543,544,545,546,547,548,549,550,551,552,553,554,555,556,557,558,559,560,561,562,563,564,565,566,567,568,569,570,571,572,573,574,575,576,577,578,579,580,581,582,583,584,586,588,589,590,591,592,593,594,596,598,600,602,604,606,610,611,614,615,616,617,620,621,622,623,627,628,629,630,631,632,633,635,636,637,638,639,640,641,642,643,644,645,647,648,649,650,653,654,659,660,661,666,667,668,670,671,672,674,675,676,679,680,681,682,683,684,685,686,687,688,689,690,691,692,694,695,696,697,698,699,700,701,702,703,704,707,708,709,713,714,715,722,723,725,726,727,729,730,731,732,733,734,735,736,737,738,739,740,741,742,743,744,745,746,747,748,749,750,751,752,755,764,765,767,768,769,770,772,773,776,777,782,787,789,790,791,792,793,794,797,798,799,800,806,813,818,819,820,821,822,823) have mixed types. Specify dtype option on import or set low_memory=False.\n",
      "  base = pd.read_csv(base_path, encoding='latin1', sep='\\t')\n"
     ]
    },
    {
     "name": "stdout",
     "output_type": "stream",
     "text": [
      "Estado de las bases: False\n",
      "Guardando base: \n",
      " balances_2016_3.txt\n",
      "Trabajando en: balances_2016_4.txt y el catalogo catalogo_2016_4.txt\n"
     ]
    },
    {
     "name": "stderr",
     "output_type": "stream",
     "text": [
      "/tmp/ipykernel_84692/2003294485.py:19: DtypeWarning: Columns (7,8,9,10,11,12,13,14,16,39,40,42,45,46,47,49,50,52,53,54,55,56,58,59,60,61,65,66,67,68,70,71,72,73,74,75,76,77,78,79,81,82,84,85,88,89,91,92,93,95,96,97,98,102,103,105,106,107,108,111,112,113,114,115,116,118,119,120,121,122,123,124,125,127,128,130,131,134,135,136,137,139,140,141,142,143,145,146,147,150,151,152,153,154,155,156,157,158,159,161,162,163,164,166,167,168,170,171,174,175,178,182,183,184,186,187,189,190,192,194,198,199,200,201,202,204,205,208,209,211,212,213,217,219,221,222,223,224,225,227,228,229,230,233,234,235,236,238,239,240,241,242,243,245,246,247,248,249,250,251,252,253,254,255,256,257,260,261,262,263,264,266,267,268,270,273,278,279,280,281,282,283,284,285,286,289,290,291,292,293,294,296,297,298,301,302,303,305,307,309,311,312,314,317,318,320,326,327,330,331,332,334,336,338,339,342,343,344,346,352,353,362,372,378,380,381,382,384,385,386,387,388,390,392,393,394,397,398,400,402,406,410,414,416,418,419,422,423,426,427,430,431,432,434,435,436,437,438,440,441,442,443,446,447,449,450,453,457,459,460,461,462,463,465,466,467,468,469,470,471,472,475,476,478,481,482,484,485,487,488,489,490,491,492,493,494,495,496,497,498,499,500,502,503,504,507,509,510,511,512,513,514,521,524,525,527,528,531,533,534,540,541,542,543,544,546,547,548,549,550,552,555,560,564,565,566,567,568,569,570,571,573,575,577,579,581,588,590,591,592,593,594,596,598,599,601,603,605,607,610,611,615,616,617,618,619,621,622,623,624,625,627,628,629,630,632,634,635,636,640,641,642,643,644,645,648,649,650,652,653,654,655,657,658,659,660,661,662,666,667,670,672,673,674,675,676,679,680,682,683,684,686,687,688,689,690,691,692,693,694,695,696,697,700,701,702,703,704,705,707,708,710,711,712,714,715,721,725,726,728,729,730,732,733,734,735,737,738,741,743,744,745,746,749,750,751,752,753,754,755,759,765,767,768,772,775,776,778,779,780,781,782,783,787,788,798,801,803,806,807,808,809,810,811,816,817,831,832,833,834) have mixed types. Specify dtype option on import or set low_memory=False.\n",
      "  base = pd.read_csv(base_path, encoding='latin1', sep='\\t')\n"
     ]
    },
    {
     "name": "stdout",
     "output_type": "stream",
     "text": [
      "Estado de las bases: False\n",
      "Guardando base: \n",
      " balances_2016_4.txt\n",
      "Trabajando en: balances_2016_5.txt y el catalogo catalogo_2016_5.txt\n",
      "Estado de las bases: False\n",
      "Guardando base: \n",
      " balances_2016_5.txt\n",
      "Trabajando en: balances_2016_6.txt y el catalogo catalogo_2016_6.txt\n",
      "Estado de las bases: False\n",
      "Guardando base: \n",
      " balances_2016_6.txt\n",
      "Trabajando en: balances_2016_7.txt y el catalogo catalogo_2016_7.txt\n",
      "Estado de las bases: False\n",
      "Guardando base: \n",
      " balances_2016_7.txt\n",
      "Trabajando en:  /media/edu/f4b771c7-3249-4558-9253-71690dfee7d0/datos/raw/extraidos/estadosFinancieros_2017\n",
      "Trabajando en: balances_2017_1.txt y el catalogo catalogo_2017_1.txt\n",
      "Estado de las bases: False\n",
      "Guardando base: \n",
      " balances_2017_1.txt\n",
      "Trabajando en: balances_2017_2.txt y el catalogo catalogo_2017_2.txt\n"
     ]
    },
    {
     "name": "stderr",
     "output_type": "stream",
     "text": [
      "/tmp/ipykernel_84692/2003294485.py:19: DtypeWarning: Columns (7,8,9,10,12,13,14,39,40,42,45,46,47,49,50,52,53,54,55,56,57,58,59,60,72,73,74,75,76,77,78,79,80,81,82,89,91,92,93,95,96,97,102,103,104,105,106,107,108,111,113,116,119,121,123,124,125,127,128,129,130,131,132,133,134,135,136,137,138,139,140,142,143,144,146,147,148,149,150,151,152,154,155,157,158,160,161,162,163,164,166,169,170,171,174,175,176,177,178,179,180,181,182,183,184,185,186,187,188,189,190,194,199,200,206,208,211,212,213,217,219,220,221,222,223,224,225,228,230,234,236,238,240,242,243,244,246,247,248,249,250,251,252,255,256,257,258,259,260,261,262,265,266,267,268,270,271,279,280,281,282,283,285,286,289,290,291,292,293,295,296,297,298,302,303,305,307,309,311,312,313,314,315,317,318,319,320,321,322,326,327,328,329,330,331,332,333,334,335,336,338,339,340,341,342,343,344,345,346,347,348,350,351,352,353,354,360,362,363,364,365,368,369,372,373,374,378,379,380,381,382,383,384,385,386,387,388,389,390,391,392,393,394,395,397,398,400,402,403,404,406,407,410,412,415,416,417,419,420,421,422,423,424,425,426,427,428,429,430,431,432,433,434,435,437,438,440,442,443,446,447,448,449,451,455,458,462,463,464,471,472,478,481,484,485,487,492,496,499,503,504,505,506,507,508,509,510,511,512,513,514,515,518,519,520,521,522,523,524,525,526,527,529,530,531,532,533,534,535,537,540,541,542,544,546,547,548,549,550,551,552,554,555,556,558,559,560,561,562,563,564,565,566,567,568,569,570,571,572,573,574,575,576,577,578,579,581,582,583,584,585,588,589,590,591,592,593,594,596,610,611,614,615,616,617,620,621,622,623,627,629,630,631,632,633,635,636,637,638,639,641,642,643,644,645,648,649,650,653,660,661,666,667,670,671,672,674,675,676,679,680,681,682,683,684,686,687,688,689,690,691,692,695,696,697,698,699,700,702,703,704,706,707,708,709,713,714,715,727,728,729,730,731,732,733,734,735,736,737,738,739,740,741,742,743,745,746,747,748,749,750,751,752,755,756,759,762,764,765,767,768,769,770,771,772,776,777,782,787,788,789,790,792,794,797,798,799,800,806,820,821,822,823) have mixed types. Specify dtype option on import or set low_memory=False.\n",
      "  base = pd.read_csv(base_path, encoding='latin1', sep='\\t')\n"
     ]
    },
    {
     "name": "stdout",
     "output_type": "stream",
     "text": [
      "Estado de las bases: False\n",
      "Guardando base: \n",
      " balances_2017_2.txt\n",
      "Trabajando en: balances_2017_3.txt y el catalogo catalogo_2017_3.txt\n"
     ]
    },
    {
     "name": "stderr",
     "output_type": "stream",
     "text": [
      "/tmp/ipykernel_84692/2003294485.py:19: DtypeWarning: Columns (7,8,9,10,11,12,13,14,39,40,42,43,45,46,47,49,50,52,53,54,55,56,57,58,59,60,61,65,69,70,71,72,73,74,75,76,77,78,79,80,81,82,84,89,91,92,93,95,96,97,102,103,104,105,106,107,108,111,112,113,115,116,118,119,120,121,122,123,124,125,127,128,129,130,131,132,133,134,135,136,137,138,139,140,141,142,143,144,145,146,147,148,149,150,151,152,153,154,155,156,157,158,160,161,162,163,164,165,166,167,168,169,170,171,174,175,176,177,178,179,180,181,182,183,184,185,186,187,188,189,190,194,196,198,199,200,202,204,205,206,208,209,211,212,213,217,219,220,221,222,223,224,225,227,228,229,230,233,234,235,236,238,240,241,242,243,244,245,246,247,248,249,250,251,252,253,254,255,256,257,258,259,260,261,262,263,264,265,266,267,268,270,271,278,279,280,281,282,283,286,289,290,291,292,293,294,295,296,297,298,301,302,303,305,307,309,311,312,313,314,315,316,317,318,319,320,321,322,323,324,325,326,327,328,329,330,331,332,333,334,335,336,338,339,340,341,342,343,344,345,346,347,348,350,351,352,353,356,357,360,361,362,363,364,365,368,369,370,372,373,374,375,376,378,379,380,381,382,383,384,385,386,387,388,390,391,392,393,394,395,397,398,399,400,402,403,404,406,408,410,411,412,414,415,416,418,419,420,421,422,423,424,425,426,427,428,429,430,431,432,433,434,435,436,437,438,439,440,441,442,443,444,446,447,448,449,450,451,455,456,457,458,460,462,463,464,466,468,469,470,471,472,475,478,481,484,485,487,488,489,490,491,492,493,494,496,497,498,499,500,501,502,503,504,505,506,507,508,509,510,511,512,513,514,515,518,519,520,521,522,523,524,526,527,528,529,530,531,532,533,534,535,537,539,540,542,543,544,545,546,547,548,549,550,551,552,553,554,555,556,557,558,559,560,561,562,564,565,566,567,568,569,570,571,572,573,574,575,577,578,579,580,581,582,583,584,586,588,589,590,591,592,593,594,596,598,601,603,605,607,610,611,612,615,616,617,618,619,621,622,623,624,627,628,630,631,632,633,634,635,636,637,638,639,640,642,643,644,645,646,647,648,649,650,651,652,654,657,658,660,661,662,666,667,668,669,671,672,673,674,675,676,677,679,680,681,682,683,684,685,686,687,688,689,690,691,692,693,694,695,696,697,698,699,700,701,702,703,704,705,706,707,708,709,710,711,712,715,716,717,721,725,728,729,730,731,732,733,734,735,736,737,738,739,740,741,742,743,744,745,746,747,748,749,750,751,752,753,754,755,762,764,766,768,771,772,773,775,776,778,779,780,781,782,783,784,787,788,793,796,798,799,800,801,802,803,804,805,807,808,809,810,811,817,824,827,831,832,833,834) have mixed types. Specify dtype option on import or set low_memory=False.\n",
      "  base = pd.read_csv(base_path, encoding='latin1', sep='\\t')\n"
     ]
    },
    {
     "name": "stdout",
     "output_type": "stream",
     "text": [
      "Estado de las bases: False\n",
      "Guardando base: \n",
      " balances_2017_3.txt\n",
      "Trabajando en: balances_2017_4.txt y el catalogo catalogo_2017_4.txt\n",
      "Estado de las bases: False\n",
      "Guardando base: \n",
      " balances_2017_4.txt\n",
      "Trabajando en: balances_2017_5.txt y el catalogo catalogo_2017_5.txt\n",
      "Estado de las bases: False\n",
      "Guardando base: \n",
      " balances_2017_5.txt\n"
     ]
    },
    {
     "name": "stderr",
     "output_type": "stream",
     "text": [
      "/tmp/ipykernel_84692/2003294485.py:19: DtypeWarning: Columns (7,8,9,12,13,14,18,21,27,34,40,46,47,50,53,54,56,57,58,59,60,72,77,81,82,84,89,91,92,95,97,103,105,107,108,111,113,120,121,122,123,124,128,129,130,133,134,135,136,137,142,148,149,151,154,162,166,168,171,174,175,182,184,186,189,198,199,200,208,213,219,221,238,240,242,246,252,256,259,262,264,267,270,282,283,286,290,291,293,294,298,299,300,303,304,318,320,322,323,325,327,330,333,337,348,355,361,367,368,376,379,381,382,393,394,403,409,415,416,417,419,429,434,435,439,447,457,459,460,461,463,464,467,468,469,501,523,531,534,540,542,547,548,549,550,553,559,560,562,568,580,581,584,590,593,598,605,608,617,626,628,629,630,632,654,655,657,659,661,662,668,672,674,681,683,686,687,688,689,699,709,719,721,726,729,730,731,741,742,746,748,768,771,772,774,781,782,783,787,788,790,800,806,813,817,825,826,836,838,841,869,870,872) have mixed types. Specify dtype option on import or set low_memory=False.\n",
      "  base = pd.read_csv(base_path, encoding='latin1', sep='\\t')\n"
     ]
    },
    {
     "name": "stdout",
     "output_type": "stream",
     "text": [
      "Trabajando en: balances_2017_6.txt y el catalogo catalogo_2017_6.txt\n",
      "Estado de las bases: False\n",
      "Guardando base: \n",
      " balances_2017_6.txt\n",
      "Trabajando en:  /media/edu/f4b771c7-3249-4558-9253-71690dfee7d0/datos/raw/extraidos/estadosFinancieros_2018\n",
      "Trabajando en: balances_2018_1.txt y el catalogo catalogo_2018_1.txt\n",
      "Estado de las bases: False\n",
      "Guardando base: \n",
      " balances_2018_1.txt\n",
      "Trabajando en: balances_2018_2.txt y el catalogo catalogo_2018_2.txt\n"
     ]
    },
    {
     "name": "stderr",
     "output_type": "stream",
     "text": [
      "/tmp/ipykernel_84692/2003294485.py:19: DtypeWarning: Columns (7,8,9,10,11,12,13,14,15,18,21,26,27,29,34,39,40,42,43,45,46,47,49,50,52,53,54,55,56,57,58,59,60,61,63,64,65,66,67,68,69,70,71,72,73,74,75,76,77,78,79,80,81,82,83,84,88,89,90,91,92,93,94,95,96,97,98,101,102,103,104,105,106,108,110,111,112,113,114,115,116,117,118,119,120,121,122,123,124,125,126,127,128,129,130,131,132,133,134,135,136,137,138,139,140,141,142,143,144,145,146,147,148,149,150,151,152,153,154,155,156,157,158,159,160,161,162,163,164,165,166,167,168,169,170,171,174,175,176,177,178,179,180,181,182,183,184,185,186,187,188,189,190,192,193,194,196,198,199,200,201,202,204,206,207,208,209,210,211,212,213,215,216,217,218,219,220,221,222,223,224,225,227,228,229,230,231,233,234,235,236,237,238,239,240,241,242,243,244,245,246,247,248,249,250,251,252,253,254,255,256,257,258,259,260,261,262,263,264,265,266,267,268,270,271,273,277,278,279,281,282,283,285,289,290,291,292,293,294,295,296,297,298,301,302,303,304,305,307,308,309,310,311,312,313,314,315,316,317,318,319,320,321,322,323,324,325,326,327,328,329,330,331,332,333,334,335,336,338,339,340,341,342,343,344,345,346,347,348,349,350,351,352,353,354,356,357,360,361,362,363,364,365,366,368,369,370,371,372,373,374,375,376,378,379,380,381,382,383,384,385,386,387,388,390,391,392,393,394,395,397,398,402,403,404,405,406,407,408,410,411,412,414,415,416,417,418,419,420,421,422,423,424,425,426,427,428,429,430,431,432,433,434,435,437,438,439,440,441,442,443,444,445,446,447,448,449,450,451,453,454,455,456,457,458,459,460,461,462,463,464,465,466,467,468,469,470,471,472,473,474,475,476,477,478,479,480,481,482,484,485,486,487,488,489,490,491,492,493,494,495,496,497,498,499,500,501,502,503,504,505,506,507,508,509,510,511,512,513,514,515,516,517,518,519,520,521,522,523,524,525,526,527,528,529,530,531,532,533,534,535,536,537,539,540,541,542,543,544,545,546,547,548,549,550,551,552,553,554,555,556,558,559,560,561,562,564,565,566,567,568,569,570,571,572,573,574,575,576,577,578,579,580,581,582,583,584,586,587,588,589,590,591,592,593,594,595,596,597,598,599,600,601,603,605,606,607,608,610,611,612,613,615,616,617,618,619,621,622,623,624,625,627,628,629,630,631,632,633,634,635,636,637,638,639,640,641,642,643,644,645,646,648,649,650,651,652,653,654,655,656,657,658,659,660,661,662,663,666,667,668,669,670,671,672,673,674,675,676,677,679,680,681,682,683,684,685,686,687,688,689,690,691,692,693,694,695,696,697,698,699,700,701,702,703,704,705,706,707,708,709,710,711,712,713,715,716,717,718,721,724,725,726,728,729,730,731,732,733,734,735,736,737,739,740,741,742,743,744,745,746,747,748,749,750,751,752,753,754,755,759,762,764,766,767,768,771,772,773,775,776,777,778,779,780,781,782,783,784,786,787,788,790,793,796,798,799,800,801,802,803,804,805,807,808,809,810,811,817,819,825,827,831,832,833,834) have mixed types. Specify dtype option on import or set low_memory=False.\n",
      "  base = pd.read_csv(base_path, encoding='latin1', sep='\\t')\n"
     ]
    },
    {
     "name": "stdout",
     "output_type": "stream",
     "text": [
      "Estado de las bases: False\n",
      "Guardando base: \n",
      " balances_2018_2.txt\n",
      "Trabajando en: balances_2018_3.txt y el catalogo catalogo_2018_3.txt\n"
     ]
    },
    {
     "name": "stderr",
     "output_type": "stream",
     "text": [
      "/tmp/ipykernel_84692/2003294485.py:19: DtypeWarning: Columns (17,18,20,28,32,41,50,51,52,60,108,109,110,119,127,129,130,144,145,150,152,155,157,165,166,183,184,185,188,189,194,196,197,198,199,200,201,206,213,215,216,219,222,224,225,228,230,231,236,240,241,246,258,263,267,284,285,287,290,291,293,296,303,313,317,318,319,322,329,330,333,334,338,339,341,344,349,367,368,369,374,375,376,377,378,382,388,394,397,403,406,423,424,427,428,430,445,447,448,455,460,462,476,491,492,494,498,501,502,503,505,506,508,510,526,536,537,540,544,547,550,552,569,570,571,572,580,586,590,594,598,606,608,609,618,624) have mixed types. Specify dtype option on import or set low_memory=False.\n",
      "  base = pd.read_csv(base_path, encoding='latin1', sep='\\t')\n"
     ]
    },
    {
     "name": "stdout",
     "output_type": "stream",
     "text": [
      "Estado de las bases: False\n",
      "Guardando base: \n",
      " balances_2018_3.txt\n",
      "Trabajando en: balances_2018_4.txt y el catalogo catalogo_2018_4.txt\n"
     ]
    },
    {
     "name": "stderr",
     "output_type": "stream",
     "text": [
      "/tmp/ipykernel_84692/2003294485.py:19: DtypeWarning: Columns (7,10,12,14,18,21,24,27,34,40,45,46,47,50,52,53,55,57,58,59,60,72,73,75,76,77,78,79,81,82,89,91,93,95,96,97,102,103,104,113,116,120,121,122,123,124,125,128,129,130,131,132,133,136,137,138,140,141,142,143,146,148,149,151,152,154,158,160,161,162,163,164,167,169,174,175,176,178,182,183,186,189,200,202,204,206,211,212,213,217,219,220,221,222,223,224,228,230,234,236,240,242,244,248,249,252,256,257,258,260,262,264,267,270,271,281,282,283,290,292,293,294,299,300,303,305,320,322,323,325,327,329,330,332,333,335,336,350,356,359,361,363,364,365,366,367,368,369,370,373,376,377,378,379,381,382,383,389,391,399,416,417,418,419,423,424,430,431,435,439,443,445,447,452,453,456,457,459,470,471,472,474,476,479,482,483,484,485,486,488,493,495,496,500,509,510,525,537,541,542,543,544,545,547,548,549,550,551,556,557,559,560,562,565,567,569,570,572,577,578,580,582,584,585,586,587,588,592,593,602,604,605,606,607,611,612,615,616,617,618,619,622,624,626,627,628,629,630,645,649,654,656,662,666,668,669,670,674,676,678,680,681,682,683,686,687,688,689,692,700,704,713,714,721,722,725,729,730,731,734,736,738,739,741,742,743,746,747,748,750,752,753,754,755,766,773,774,776,779,782,783,784,787,789,792,793,802,810,813,816,817,818,831,834,836,839,841,855,869,870,871,872) have mixed types. Specify dtype option on import or set low_memory=False.\n",
      "  base = pd.read_csv(base_path, encoding='latin1', sep='\\t')\n"
     ]
    },
    {
     "name": "stdout",
     "output_type": "stream",
     "text": [
      "Estado de las bases: False\n",
      "Guardando base: \n",
      " balances_2018_4.txt\n",
      "Trabajando en: balances_2018_5.txt y el catalogo catalogo_2018_5.txt\n",
      "Estado de las bases: False\n",
      "Guardando base: \n",
      " balances_2018_5.txt\n"
     ]
    },
    {
     "name": "stderr",
     "output_type": "stream",
     "text": [
      "/tmp/ipykernel_84692/2003294485.py:19: DtypeWarning: Columns (7,16,18,40,47,68,69,70,71,78,91,92,96,102,107,108,111,115,116,117,118,119,132,135,138,139,153,156,158,159,165,170,178,185,186,187,188,189,192,196,197,200,203,206,209,210,211,212,214,215,219,230,232,238,253,254,261,263,269,270,276,277,285,290,293,299,303,316,318,323,325,327,335,336,340,346,349,351,368,369,370,373,379,385,386,391,404,405,407,409,412,413,414,415,425,426,443,451,458,464,469,472,474,483,487,493,495,510,512,519,521,523,525,526,533,539,541,542,543,551,561,578,579,581,585,592,597,601,605,618,621,622,623,625,626,636,638,641,642,663,664,669,693,709,710,711,716,717,725,727,737,739,740,743,745,748,752,754,756,761,762,770,771,773,774,783,785,795,796,797,800,817,823,828,829,830,834,836,838,839,840,844,846,848,852,855,856,867,876,881,882,889,893,894,895,897,898,906,909,910) have mixed types. Specify dtype option on import or set low_memory=False.\n",
      "  base = pd.read_csv(base_path, encoding='latin1', sep='\\t')\n"
     ]
    },
    {
     "name": "stdout",
     "output_type": "stream",
     "text": [
      "Trabajando en:  /media/edu/f4b771c7-3249-4558-9253-71690dfee7d0/datos/raw/extraidos/estadosFinancieros_2019\n",
      "Trabajando en: balances_2019_1.txt y el catalogo catalogo_2019_1.txt\n",
      "Estado de las bases: False\n",
      "Guardando base: \n",
      " balances_2019_1.txt\n",
      "Trabajando en: balances_2019_2.txt y el catalogo catalogo_2019_2.txt\n"
     ]
    },
    {
     "name": "stderr",
     "output_type": "stream",
     "text": [
      "/tmp/ipykernel_84692/2003294485.py:19: DtypeWarning: Columns (7,8,9,12,14,46,47,49,50,53,55,56,57,58,59,60,75,76,77,79,81,82,89,91,92,93,96,97,104,113,116,119,121,123,125,127,128,130,131,134,136,137,140,141,142,143,146,148,149,150,152,157,162,163,164,165,166,169,175,177,178,179,182,183,185,186,187,188,189,198,200,202,206,211,213,219,221,222,223,224,228,234,236,240,242,246,248,249,250,251,252,256,259,263,265,267,270,271,282,283,290,292,297,298,302,303,309,317,319,321,324,326,327,330,331,332,334,336,339,340,344,346,352,356,357,360,361,362,363,372,378,379,381,383,386,387,388,390,392,393,394,398,402,410,412,415,416,420,422,423,426,427,430,431,434,435,437,438,439,442,443,444,446,447,448,449,458,460,462,466,467,471,481,487,499,503,504,509,511,512,513,514,519,521,524,527,531,534,536,538,540,542,544,547,549,550,552,554,556,558,566,567,568,570,575,576,577,579,581,582,586,588,590,591,594,611,616,618,621,622,623,624,628,630,631,632,634,636,638,640,642,643,645,649,651,652,654,662,670,675,676,681,683,684,688,691,692,693,695,698,699,700,701,703,704,707,708,717,734,735,736,742,743,744,749,750,755,760,767,779,787,788,793,798,800,802,805,814,817,831,832,833,834) have mixed types. Specify dtype option on import or set low_memory=False.\n",
      "  base = pd.read_csv(base_path, encoding='latin1', sep='\\t')\n"
     ]
    },
    {
     "name": "stdout",
     "output_type": "stream",
     "text": [
      "Estado de las bases: False\n",
      "Guardando base: \n",
      " balances_2019_2.txt\n",
      "Trabajando en: balances_2019_3.txt y el catalogo catalogo_2019_3.txt\n"
     ]
    },
    {
     "name": "stderr",
     "output_type": "stream",
     "text": [
      "/tmp/ipykernel_84692/2003294485.py:19: DtypeWarning: Columns (17,18,19,21,23,24,28,29,30,31,32,33,34,35,36,37,39,41,43,45,46,47,50,52,53,55,57,58,60,61,65,67,71,73,74,76,77,80,82,86,89,90,92,94,97,98,99,101,102,103,105,107,108,109,110,111,119,120,122,123,124,127,128,129,131,132,133,134,146,151,152,155,165,166,182,183,184,185,186,190,193,198,200,201,202,204,207,209,213,214,216,217,220,221,222,226,227,228,230,232,240,246,253,258,261,263,264,265,267,274,284,285,286,291,293,297,298,299,300,301,302,303,304,306,310,317,318,322,326,330,331,332,333,334,335,336,338,339,342,348,356,358,362,367,369,376,377,378,382,388,390,391,392,394,402,403,404,405,407,408,409,410,411,412,413,416,417,418,421,423,424,425,427,428,429,430,431,435,445,456,459,460,461,462,466,467,491,492,495,497,499,501,502,505,506,507,508,509,510,542,543,544,545,547,548,550,552,553,554,555,567,569,571,575,576,577,578,579,581,582,583,586,587,590,591,592,593,598,608,609,616,617,619,620,621,623,624,625,628) have mixed types. Specify dtype option on import or set low_memory=False.\n",
      "  base = pd.read_csv(base_path, encoding='latin1', sep='\\t')\n"
     ]
    },
    {
     "name": "stdout",
     "output_type": "stream",
     "text": [
      "Estado de las bases: False\n",
      "Guardando base: \n",
      " balances_2019_3.txt\n",
      "Trabajando en: balances_2019_4.txt y el catalogo catalogo_2019_4.txt\n"
     ]
    },
    {
     "name": "stderr",
     "output_type": "stream",
     "text": [
      "/tmp/ipykernel_84692/2003294485.py:19: DtypeWarning: Columns (7,8,9,10,12,13,14,18,21,23,27,28,29,32,33,34,39,40,45,46,47,49,50,53,54,55,56,57,58,59,60,71,72,73,74,75,76,77,78,79,80,81,82,83,89,91,92,93,95,96,97,102,103,104,111,113,116,119,120,121,122,123,124,125,127,128,129,130,131,132,133,134,135,136,137,138,139,140,141,142,143,144,146,147,148,149,150,151,152,154,155,156,157,158,160,161,162,163,164,165,166,169,171,174,175,176,177,178,179,180,181,182,183,184,185,186,187,188,189,190,198,199,200,202,206,208,211,212,213,217,219,220,221,222,223,224,225,228,230,234,236,238,240,242,243,244,246,247,248,249,250,251,252,256,257,258,259,260,261,262,263,264,265,266,267,270,271,278,279,280,281,282,283,286,287,290,291,292,293,294,295,296,297,298,299,300,303,304,305,318,320,322,323,325,329,330,332,333,342,344,346,348,350,352,354,355,356,357,358,359,360,361,362,363,364,365,366,367,368,369,370,371,372,373,375,376,377,378,379,380,381,382,383,384,385,386,387,388,389,390,391,392,393,395,397,398,399,400,401,402,403,404,405,406,407,409,410,411,412,415,416,417,418,419,420,421,422,423,424,425,426,427,428,429,430,431,432,435,436,439,440,441,443,444,445,447,448,449,450,452,453,454,456,457,458,459,460,461,462,463,464,465,466,467,468,469,470,471,472,474,475,476,477,479,480,481,482,483,484,485,486,487,488,493,494,495,496,498,500,501,502,504,506,508,509,510,523,525,526,527,528,529,531,535,537,540,541,542,543,544,545,546,547,548,549,550,551,552,554,556,557,558,559,560,561,562,564,565,567,568,569,570,571,572,573,574,575,577,578,579,580,582,584,585,586,587,588,589,590,591,592,593,594,595,596,597,598,599,600,602,603,604,605,606,607,608,609,610,611,612,613,615,616,617,618,619,620,621,622,624,626,627,628,629,630,631,632,639,649,650,654,655,656,659,660,661,662,666,668,669,670,671,672,674,675,676,677,678,680,681,682,683,684,687,688,689,690,692,699,700,704,705,706,708,709,710,711,713,714,715,718,719,721,722,723,725,726,727,728,729,730,731,732,733,734,735,736,737,738,739,741,742,743,745,746,747,748,749,751,752,753,754,755,759,763,766,767,768,770,771,772,773,774,776,777,778,779,780,781,782,783,784,785,786,787,788,789,790,791,792,793,797,798,800,804,805,806,809,810,811,813,814,816,817,818,819,820,821,825,826,830,831,836,837,838,839,840,841,842,843,846,847,848,849,855,869,870,871,872) have mixed types. Specify dtype option on import or set low_memory=False.\n",
      "  base = pd.read_csv(base_path, encoding='latin1', sep='\\t')\n"
     ]
    },
    {
     "name": "stdout",
     "output_type": "stream",
     "text": [
      "Estado de las bases: False\n",
      "Guardando base: \n",
      " balances_2019_4.txt\n",
      "Trabajando en: balances_2019_5.txt y el catalogo catalogo_2019_5.txt\n"
     ]
    },
    {
     "name": "stderr",
     "output_type": "stream",
     "text": [
      "/tmp/ipykernel_84692/2003294485.py:19: DtypeWarning: Columns (7,15,17,18,19,32,33,41,48,66,69,70,71,76,79,81,83,85,89,92,102,104,107,113,116,117,118,119,132,135,137,138,139,140,141,142,143,150,152,153,154,156,158,159,164,165,166,168,176,180,183,185,187,191,192,195,196,197,199,200,201,202,203,208,209,211,212,215,219,221,223,224,225,226,228,229,230,231,234,237,238,239,245,246,249,253,254,255,256,258,261,263,270,278,285,292,293,299,300,304,306,309,311,316,318,323,325,327,331,332,335,340,343,345,346,351,355,358,368,369,373,379,381,386,387,390,391,392,396,401,403,404,405,406,409,412,413,414,415,417,420,421,422,423,425,426,438,443,447,450,451,458,459,463,471,474,476,480,481,486,487,495,496,497,498,514,516,519,522,523,525,526,529,530,531,532,533,538,541,542,543,545,551,561,563,571,573,574,577,578,579,580,586,592,593,596,597,598,601,609,614,618,619,620,623,625,632,633,634,636,638,641,642,643,645,650,664,668,670,677,678,693,694,705,708,709,710,711,715,716,717,719,720,722,725,727,728,730,732,733,735,740,743,745,746,748,752,755,758,760,766,770,771,773,774,775,776,778,783,785,787,790,792,794,795,796,797,798,799,802,822,823,827,828,829,830,834,836,838,839,843,845,848,850,852,855,856,858,867,872,873,874,881,882,883,887,889,895,897,899,902,903,906,909,919,921,925,927) have mixed types. Specify dtype option on import or set low_memory=False.\n",
      "  base = pd.read_csv(base_path, encoding='latin1', sep='\\t')\n"
     ]
    },
    {
     "name": "stdout",
     "output_type": "stream",
     "text": [
      "Estado de las bases: False\n",
      "Guardando base: \n",
      " balances_2019_5.txt\n",
      "Trabajando en:  /media/edu/f4b771c7-3249-4558-9253-71690dfee7d0/datos/raw/extraidos/estadosFinancieros_2020\n",
      "Trabajando en: balances_2020_1.txt y el catalogo catalogo_2020_1.txt\n"
     ]
    },
    {
     "name": "stderr",
     "output_type": "stream",
     "text": [
      "/tmp/ipykernel_84692/2003294485.py:19: DtypeWarning: Columns (17,18,19,20,22,23,24,27,28,29,30,32,33,34,35,36,37,39,41,43,44,45,46,47,50,51,52,53,55,58,59,60,61,65,67,69,71,72,73,76,78,80,82,83,84,86,90,92,94,96,97,98,101,102,103,105,106,107,108,109,110,111,118,119,120,122,123,124,127,128,129,130,131,132,133,138,145,146,147,149,150,151,152,153,155,156,157,158,164,165,166,176,179,180,182,183,184,185,187,188,189,190,191,192,193,194,195,198,199,200,201,202,204,206,207,208,209,212,213,214,215,216,217,218,219,220,221,222,224,225,226,227,228,230,231,232,233,236,237,240,241,242,245,246,252,253,254,258,259,260,261,262,263,264,265,266,267,274,279,280,282,283,284,285,286,287,288,289,290,291,292,293,294,296,297,299,300,301,302,303,304,306,308,310,316,317,318,319,320,321,322,326,327,328,331,332,333,334,335,336,337,338,339,340,341,342,343,344,346,347,348,349,356,358,362,366,367,368,369,370,374,375,376,377,378,382,387,388,390,391,392,393,394,395,396,397,398,400,401,402,403,404,405,406,407,408,409,410,411,412,413,414,415,416,418,419,420,421,423,424,425,426,427,428,429,430,431,434,435,441,444,445,450,456,458,459,460,461,462,466,467,476,483,487,488,491,492,494,495,497,498,499,500,501,503,504,505,506,507,508,509,510,520,526,536,537,538,539,540,541,542,543,544,545,546,547,548,550,551,552,553,554,555,561,562,563,566,567,569,570,571,572,573,576,577,578,579,580,581,582,583,584,586,587,588,590,591,592,593,594,598,605,606,608,609,612,617,618,619,620,621,622,624,625,628) have mixed types. Specify dtype option on import or set low_memory=False.\n",
      "  base = pd.read_csv(base_path, encoding='latin1', sep='\\t')\n"
     ]
    },
    {
     "name": "stdout",
     "output_type": "stream",
     "text": [
      "Estado de las bases: False\n",
      "Guardando base: \n",
      " balances_2020_1.txt\n",
      "Trabajando en: balances_2020_2.txt y el catalogo catalogo_2020_2.txt\n"
     ]
    },
    {
     "name": "stderr",
     "output_type": "stream",
     "text": [
      "/tmp/ipykernel_84692/2003294485.py:19: DtypeWarning: Columns (7,8,9,10,11,12,13,14,18,21,22,24,27,28,29,34,39,40,42,43,45,46,47,48,49,50,52,53,54,55,56,57,58,59,60,61,65,66,67,68,69,70,71,72,73,74,75,76,77,78,79,80,81,82,83,84,89,91,92,93,95,96,97,101,102,103,104,105,106,107,108,109,111,112,113,115,116,117,118,119,121,122,123,124,125,126,127,128,129,130,131,132,133,134,135,136,137,138,139,140,141,142,143,144,145,146,147,148,149,150,151,152,153,154,155,156,157,158,159,160,161,162,163,164,165,166,167,168,169,170,171,172,174,175,176,177,178,179,181,182,183,184,185,186,187,188,189,190,192,194,195,196,197,198,199,200,201,202,204,205,206,207,208,209,211,212,213,214,215,217,219,220,221,222,223,224,225,226,227,228,229,230,233,234,235,236,238,239,240,241,242,243,244,245,246,247,248,249,250,251,252,253,254,255,256,257,258,259,260,261,262,263,264,265,266,267,270,271,273,276,278,279,280,281,282,283,284,285,286,287,290,291,292,293,294,295,296,297,298,299,300,303,304,305,318,319,320,322,323,325,327,329,330,332,333,334,342,343,344,346,347,348,349,350,351,352,353,354,355,356,357,358,359,360,361,362,363,364,365,366,367,368,369,370,371,372,373,374,375,376,377,378,379,380,381,382,383,384,385,387,388,389,390,391,392,393,394,397,398,399,400,401,402,403,404,405,407,408,409,410,411,413,414,415,416,417,418,419,420,421,422,423,424,425,426,427,428,429,430,431,432,434,435,436,437,439,440,441,442,443,444,445,446,447,448,449,450,451,452,453,454,456,457,458,459,460,461,462,463,464,465,466,467,468,469,470,471,472,473,474,475,476,477,478,479,480,481,482,483,484,485,486,487,491,493,494,495,496,497,498,499,500,501,502,503,504,505,506,507,508,509,510,512,513,516,518,519,521,522,523,525,526,527,528,529,530,531,532,533,534,535,536,537,538,540,541,542,543,544,545,546,547,548,549,550,551,552,553,556,557,558,559,560,561,562,563,564,565,566,567,568,569,570,571,572,573,574,575,576,577,578,579,580,581,582,583,584,585,586,587,588,589,590,591,592,593,594,595,596,597,598,599,600,602,603,604,605,606,607,608,609,610,611,612,613,614,615,616,617,618,619,620,621,622,623,624,625,626,627,628,629,630,631,632,634,636,639,641,643,644,645,648,649,650,653,654,655,656,659,660,661,662,664,665,666,667,668,669,670,671,672,673,674,675,676,677,678,679,680,681,682,683,684,685,686,687,688,689,690,691,692,693,694,695,698,699,700,704,705,706,708,709,710,711,713,714,715,716,717,718,719,720,721,722,723,724,725,726,727,729,730,731,732,733,734,735,736,737,738,739,740,741,742,743,744,745,746,747,748,749,750,751,752,753,754,755,763,764,766,767,768,770,771,772,773,774,775,776,777,778,779,780,781,782,783,784,785,787,788,789,790,791,792,793,797,798,800,802,805,806,809,811,813,816,817,818,819,820,821,823,825,826,827,829,830,832,833,835,836,837,838,839,840,841,842,843,844,845,846,847,848,849,850,851,855,869,870,871,872) have mixed types. Specify dtype option on import or set low_memory=False.\n",
      "  base = pd.read_csv(base_path, encoding='latin1', sep='\\t')\n"
     ]
    },
    {
     "name": "stdout",
     "output_type": "stream",
     "text": [
      "Estado de las bases: False\n",
      "Guardando base: \n",
      " balances_2020_2.txt\n",
      "Trabajando en: balances_2020_3.txt y el catalogo catalogo_2020_3.txt\n"
     ]
    },
    {
     "name": "stderr",
     "output_type": "stream",
     "text": [
      "/tmp/ipykernel_84692/2003294485.py:19: DtypeWarning: Columns (7,15,16,17,18,19,20,22,26,28,29,30,31,32,33,35,37,40,41,42,43,47,48,49,50,51,55,56,58,59,60,63,64,65,66,67,69,70,71,75,78,79,81,82,83,84,85,86,91,92,96,97,99,100,102,104,105,107,108,111,112,113,115,116,117,118,119,120,126,127,130,131,132,133,134,135,137,138,139,140,141,142,143,145,150,152,153,154,156,158,159,164,165,166,168,169,174,176,178,180,183,185,186,187,188,189,191,192,193,194,195,196,197,199,200,201,202,203,204,205,206,207,208,209,210,211,212,214,215,216,217,218,219,221,223,224,225,226,227,228,229,230,231,232,233,234,236,238,240,243,245,246,247,248,249,250,252,253,254,255,256,257,258,259,260,261,262,263,265,266,268,269,270,274,276,277,278,281,283,285,287,288,290,292,293,297,299,300,303,304,305,306,307,309,310,311,315,316,318,320,321,323,324,325,326,327,328,329,330,331,332,334,335,337,338,339,340,341,345,346,347,348,349,350,351,352,353,355,356,357,358,360,365,367,368,369,370,374,377,379,380,381,382,383,384,385,386,387,390,391,396,399,403,404,405,406,407,408,409,410,411,412,413,414,415,420,421,422,423,424,425,426,435,438,442,443,444,446,449,450,452,453,454,458,459,469,470,471,472,474,476,478,480,481,482,483,484,486,487,493,495,496,497,498,508,510,511,512,513,514,515,516,517,518,519,520,521,522,523,524,525,526,527,528,529,530,531,532,533,534,535,537,538,539,540,541,542,543,544,545,546,549,551,552,553,561,563,565,571,572,573,574,575,577,578,579,580,581,582,583,585,586,589,591,592,593,594,596,597,601,605,606,609,613,614,615,616,618,619,620,621,623,624,625,626,627,629,630,631,633,634,636,637,638,641,642,643,644,645,646,647,648,650,654,661,662,664,666,667,668,669,670,671,672,673,675,676,678,681,684,687,690,691,693,694,695,696,697,698,699,700,702,703,705,706,708,709,710,711,712,713,715,716,717,718,719,720,724,725,727,728,729,730,732,733,734,735,736,737,738,739,740,745,746,748,749,750,751,752,753,754,755,756,758,759,760,761,762,763,764,766,768,769,770,771,772,773,774,775,776,777,778,779,780,781,783,785,787,788,790,792,794,795,796,797,798,799,800,804,807,808,809,811,813,817,821,822,823,824,825,827,828,829,830,834,835,836,837,838,839,840,842,843,844,845,846,848,849,850,851,852,854,855,856,857,858,860,861,863,864,866,867,868,872,874,876,877,878,879,881,882,883,885,886,887,888,889,890,891,893,894,895,897,898,899,900,901,902,903,904,906,907,909,910,911,912,913,914,915,916,917,918,919,920,921,922,924,925,926,927,928) have mixed types. Specify dtype option on import or set low_memory=False.\n",
      "  base = pd.read_csv(base_path, encoding='latin1', sep='\\t')\n"
     ]
    },
    {
     "name": "stdout",
     "output_type": "stream",
     "text": [
      "Estado de las bases: False\n",
      "Guardando base: \n",
      " balances_2020_3.txt\n",
      "Trabajando en:  /media/edu/f4b771c7-3249-4558-9253-71690dfee7d0/datos/raw/extraidos/estadosFinancieros_2021\n",
      "Trabajando en: balances_2021_1.txt y el catalogo catalogo_2021_1.txt\n"
     ]
    },
    {
     "name": "stderr",
     "output_type": "stream",
     "text": [
      "/tmp/ipykernel_84692/2003294485.py:19: DtypeWarning: Columns (17,18,19,20,22,23,24,27,28,29,30,32,33,34,35,36,37,38,39,41,43,44,45,46,47,50,51,52,53,55,57,58,59,60,61,65,67,69,70,71,72,73,76,77,78,80,81,82,83,84,85,86,89,90,92,94,96,97,98,99,101,102,103,105,106,107,108,109,110,111,119,120,122,123,124,127,128,129,130,131,132,133,145,149,150,151,152,155,165,166,176,180,183,184,185,187,188,189,190,191,192,193,194,195,196,197,198,199,200,201,202,204,206,207,209,212,213,214,215,216,217,219,220,221,222,224,226,227,228,229,230,232,235,236,240,241,245,246,253,255,258,259,260,261,262,263,264,265,266,267,274,283,284,285,286,287,290,291,293,296,297,298,299,300,301,302,303,304,306,308,310,313,316,317,318,319,320,321,322,326,327,328,330,331,332,333,334,335,336,338,339,340,341,342,343,344,345,346,347,348,349,356,358,359,360,362,365,366,367,368,369,370,374,376,377,378,382,387,388,391,392,394,396,397,398,400,401,402,403,404,405,406,407,408,409,410,411,412,413,416,417,418,421,423,424,425,426,428,429,430,431,434,435,445,447,449,456,458,459,460,461,462,466,467,473,476,482,491,492,493,494,495,497,498,499,500,501,502,503,505,506,507,508,509,510,536,537,538,539,540,542,543,544,545,547,548,550,551,552,553,554,555,561,562,566,567,569,570,571,572,573,575,576,577,578,579,581,582,583,587,590,591,592,593,594,595,598,605,606,608,609,617,618,619,620,621,622,623,624,625,628) have mixed types. Specify dtype option on import or set low_memory=False.\n",
      "  base = pd.read_csv(base_path, encoding='latin1', sep='\\t')\n"
     ]
    },
    {
     "name": "stdout",
     "output_type": "stream",
     "text": [
      "Estado de las bases: False\n",
      "Guardando base: \n",
      " balances_2021_1.txt\n",
      "Trabajando en: balances_2021_2.txt y el catalogo catalogo_2021_2.txt\n",
      "Estado de las bases: False\n",
      "Guardando base: \n",
      " balances_2021_2.txt\n",
      "Trabajando en: balances_2021_3.txt y el catalogo catalogo_2021_3.txt\n"
     ]
    },
    {
     "name": "stderr",
     "output_type": "stream",
     "text": [
      "/tmp/ipykernel_84692/2003294485.py:19: DtypeWarning: Columns (7,9,11,15,16,17,18,19,20,21,22,23,26,27,28,29,30,31,32,33,34,35,36,37,38,39,40,41,42,43,44,45,46,47,48,49,50,51,52,53,54,55,56,57,58,59,60,63,64,65,66,67,68,69,70,71,72,73,75,76,78,79,81,82,83,84,85,86,91,92,95,96,97,99,100,102,104,105,106,107,108,109,110,111,112,113,115,116,117,118,119,120,121,122,123,124,126,127,129,130,131,132,133,134,135,136,137,138,139,140,141,142,143,144,145,149,150,151,152,153,154,155,156,157,158,159,160,163,164,165,166,167,168,169,170,171,173,174,175,176,177,178,180,181,182,183,184,185,186,187,188,189,190,191,192,193,194,195,196,197,198,199,200,201,202,203,204,206,207,208,209,210,211,212,214,215,216,217,218,219,221,222,223,224,225,226,227,228,229,230,231,232,233,234,236,237,238,239,240,241,245,246,247,248,249,250,253,254,255,256,257,258,259,260,261,262,263,265,266,268,269,270,272,274,276,277,278,279,281,283,284,285,286,287,288,289,290,292,293,294,295,296,297,298,299,300,301,303,304,305,306,307,308,309,310,311,315,316,318,319,320,321,323,324,325,326,327,328,329,330,331,332,334,335,336,337,338,339,340,341,342,343,345,346,347,348,349,350,351,352,353,355,356,357,358,360,364,365,366,367,368,369,370,371,372,373,374,376,377,378,379,380,381,382,383,384,385,386,387,390,391,395,396,397,398,399,400,401,402,403,404,405,406,407,408,409,410,411,412,413,414,415,420,421,422,423,424,425,426,430,431,433,435,438,439,443,444,448,449,450,451,452,453,454,457,458,459,461,469,470,471,472,473,474,475,476,477,478,479,480,481,483,484,485,486,487,489,493,495,496,497,498,502,504,506,507,508,509,510,511,512,513,514,515,516,517,518,519,520,521,522,523,524,525,526,527,528,529,530,531,532,533,534,535,536,537,538,539,540,541,542,543,544,545,546,547,549,550,551,552,553,554,555,556,557,558,559,560,561,562,563,564,565,566,567,569,571,572,573,574,575,577,578,579,580,581,582,583,584,585,586,587,588,589,590,591,592,593,594,595,596,597,598,601,602,603,605,606,607,609,610,611,612,613,614,615,616,617,618,619,620,621,622,623,624,625,626,627,628,629,630,631,632,633,634,635,636,637,638,639,640,641,642,643,644,645,646,647,648,649,654,656,657,659,661,662,664,666,667,668,669,670,671,672,673,674,675,676,678,679,681,682,683,684,685,687,688,689,690,691,693,694,695,696,697,698,699,700,701,702,703,704,705,706,707,708,709,710,711,712,713,714,715,716,717,718,719,720,721,723,724,725,726,727,728,729,730,731,732,733,734,735,736,737,738,739,740,741,745,746,747,748,749,750,751,752,753,754,755,756,757,758,759,760,761,762,763,764,765,766,767,768,769,770,771,772,773,774,775,776,777,778,779,780,781,782,783,784,785,786,787,788,789,790,791,792,793,794,795,796,797,798,799,800,801,802,804,805,807,808,809,811,812,813,814,816,817,818,819,820,821,822,823,824,825,826,827,828,829,830,831,832,833,834,835,836,837,838,839,840,841,842,843,844,845,846,847,848,849,850,851,852,853,854,855,856,857,858,859,860,861,862,863,864,865,866,867,868,869,871,872,873,874,876,877,878,879,880,881,882,883,884,885,886,887,888,889,890,891,892,893,894,895,896,897,898,899,900,901,902,903,904,905,906,907,908,909,910,911,912,913,914,915,916,917,918,919,920,921,922,923,924,925,926,927,928) have mixed types. Specify dtype option on import or set low_memory=False.\n",
      "  base = pd.read_csv(base_path, encoding='latin1', sep='\\t')\n"
     ]
    },
    {
     "name": "stdout",
     "output_type": "stream",
     "text": [
      "Estado de las bases: False\n",
      "Guardando base: \n",
      " balances_2021_3.txt\n",
      "Trabajando en:  /media/edu/f4b771c7-3249-4558-9253-71690dfee7d0/datos/raw/extraidos/estadosFinancieros_2022\n",
      "Trabajando en: balances_2022_1.txt y el catalogo catalogo_2022_1.txt\n"
     ]
    },
    {
     "name": "stderr",
     "output_type": "stream",
     "text": [
      "/tmp/ipykernel_84692/2003294485.py:19: DtypeWarning: Columns (14,15,16,17,18,19,20,21,22,23,24,25,26,27,28,29,30,31,32,33,34,35,36,37,38,39,40,41,42,43,44,45,46,47,48,49,50,51,52,53,54,55,56,57,58,59,60,61,62,64,65,66,67,68,69,70,71,72,73,74,75,76,77,78,80,81,82,83,84,85,86,87,88,89,90,92,93,94,95,96,97,98,99,101,102,103,104,105,106,107,108,109,110,111,113,114,115,118,119,120,121,122,123,124,125,126,127,128,129,130,131,132,133,134,139,143,144,145,146,147,149,151,152,153,154,155,157,158,164,165,166,167,171,172,173,175,176,179,180,182,183,184,185,186,187,188,189,190,191,192,193,194,195,196,197,198,199,200,201,202,203,204,205,206,207,208,209,210,211,212,213,214,215,216,217,218,219,220,221,222,224,225,226,227,228,229,230,231,232,233,234,235,236,237,239,240,241,242,245,246,249,253,254,255,258,259,260,261,262,263,264,265,266,267,272,274,275,278,280,281,282,283,284,285,286,287,290,291,292,293,294,295,296,297,298,299,300,301,302,303,304,305,306,307,308,310,313,315,316,317,318,319,320,321,322,326,327,328,329,330,331,332,333,334,335,336,337,338,339,340,341,342,343,344,345,346,347,348,349,350,356,357,358,359,360,362,365,366,367,368,369,370,371,372,373,374,375,376,377,378,382,387,388,390,391,392,393,394,395,396,397,398,399,400,401,402,403,404,405,406,407,408,409,410,411,412,413,414,415,416,417,418,419,420,421,422,423,424,425,426,427,428,429,430,431,434,435,439,441,443,444,445,446,447,448,449,450,451,452,453,454,455,456,457,458,459,460,461,462,463,464,465,466,467,473,474,475,476,477,478,479,480,481,482,483,484,485,486,487,488,489,490,491,492,493,494,495,496,497,498,499,500,501,502,503,504,505,506,507,508,509,510,511,512,514,515,516,517,518,519,520,522,523,524,525,526,527,528,529,530,532,535,536,537,538,539,540,541,542,543,544,545,546,547,548,549,550,551,552,553,554,555,556,561,562,563,564,565,566,567,568,569,570,571,572,573,574,575,576,577,578,579,580,581,582,583,584,585,586,587,588,589,590,591,592,593,594,595,596,597,598,599,605,606,608,609,611,613,614,616,617,618,619,620,621,622,623,624,625,627,628) have mixed types. Specify dtype option on import or set low_memory=False.\n",
      "  base = pd.read_csv(base_path, encoding='latin1', sep='\\t')\n"
     ]
    },
    {
     "name": "stdout",
     "output_type": "stream",
     "text": [
      "Estado de las bases: False\n",
      "Guardando base: \n",
      " balances_2022_1.txt\n",
      "Trabajando en: balances_2022_2.txt y el catalogo catalogo_2022_2.txt\n",
      "Estado de las bases: False\n",
      "Guardando base: \n",
      " balances_2022_2.txt\n",
      "Trabajando en: balances_2022_3.txt y el catalogo catalogo_2022_3.txt\n",
      "Estado de las bases: False\n",
      "Guardando base: \n",
      " balances_2022_3.txt\n",
      "Trabajando en:  /media/edu/f4b771c7-3249-4558-9253-71690dfee7d0/datos/raw/extraidos/estadosFinancieros_2023\n",
      "Trabajando en: balances_2023_1.txt y el catalogo catalogo_2023_1.txt\n"
     ]
    },
    {
     "name": "stderr",
     "output_type": "stream",
     "text": [
      "/tmp/ipykernel_84692/2003294485.py:19: DtypeWarning: Columns (2,16,17,18,19,20,21,23,24,25,27,28,29,30,31,32,33,34,35,36,37,38,39,40,41,43,44,45,46,47,48,49,50,51,52,53,54,55,57,58,59,60,61,64,65,66,67,69,70,71,72,73,74,75,76,78,80,81,82,83,84,85,86,89,90,91,92,93,94,95,96,97,98,99,100,101,102,103,105,106,107,108,109,110,111,119,120,121,122,123,124,125,126,127,128,129,130,131,132,133,134,144,147,150,151,152,153,155,164,165,166,172,176,180,182,183,184,185,186,188,189,190,191,192,193,194,195,196,197,198,199,200,201,202,204,206,207,208,209,212,213,214,215,216,217,218,219,220,221,222,224,225,226,227,228,229,230,231,232,234,235,236,237,240,241,242,245,246,252,253,254,255,258,261,262,263,264,265,266,267,274,284,285,286,287,290,291,292,293,294,296,297,298,299,300,301,302,303,304,305,306,308,310,313,316,317,318,319,322,326,327,330,331,332,333,334,335,336,337,338,339,340,341,342,343,344,345,346,347,348,349,356,357,358,359,360,362,365,366,367,368,369,370,374,375,376,377,378,382,387,388,390,391,392,394,396,397,398,400,401,402,403,404,405,406,407,408,409,410,411,412,413,414,415,416,417,418,419,421,423,424,425,426,427,428,429,430,431,434,435,441,443,445,447,448,449,450,453,454,455,456,458,459,460,461,462,466,467,473,476,477,481,482,483,487,488,489,490,491,492,493,494,495,496,497,498,499,500,501,502,503,505,506,507,508,509,510,526,536,537,538,539,540,542,543,544,545,546,547,548,550,551,552,553,554,555,560,561,562,566,567,569,570,571,572,573,574,575,576,577,578,579,581,582,583,587,588,590,591,592,593,594,595,598,606,608,609,611,616,617,618,619,620,621,622,623,624,625,628) have mixed types. Specify dtype option on import or set low_memory=False.\n",
      "  base = pd.read_csv(base_path, encoding='latin1', sep='\\t')\n"
     ]
    },
    {
     "name": "stdout",
     "output_type": "stream",
     "text": [
      "Estado de las bases: False\n",
      "Guardando base: \n",
      " balances_2023_1.txt\n",
      "Trabajando en: balances_2023_2.txt y el catalogo catalogo_2023_2.txt\n",
      "Estado de las bases: False\n",
      "Guardando base: \n",
      " balances_2023_2.txt\n",
      "Trabajando en:  /media/edu/f4b771c7-3249-4558-9253-71690dfee7d0/datos/raw/extraidos/estadosFinancieros_2024\n",
      "Trabajando en: balances_2024_1.txt y el catalogo catalogo_2024_1.txt\n",
      "Estado de las bases: False\n",
      "Guardando base: \n",
      " balances_2024_1.txt\n",
      "Terminado\n"
     ]
    },
    {
     "name": "stderr",
     "output_type": "stream",
     "text": [
      "/tmp/ipykernel_84692/2003294485.py:19: DtypeWarning: Columns (18,19,28,35,36,41,46,50,65,73,78,83,84,107,151,155,166,180,184,193,196,197,204,207,212,213,215,219,220,222,226,230,258,264,274,284,285,286,290,291,296,310,316,319,327,330,331,333,334,335,340,341,346,347,348,349,358,359,369,376,378,387,394,401,424,427,434,494,498,501,510,543,544,548,550,552,553,555,561,562,569,571,573,594,598,609,617,618,625,628) have mixed types. Specify dtype option on import or set low_memory=False.\n",
      "  base = pd.read_csv(base_path, encoding='latin1', sep='\\t')\n"
     ]
    }
   ],
   "source": [
    "# Loop ocer años y archivos\n",
    "for ano in anos:\n",
    "    # path hacia el año\n",
    "    estados_path = os.path.join(path, ano)\n",
    "    print(\"Trabajando en: \", estados_path)\n",
    "    # listamos los archivos de ese año\n",
    "    archivos = sorted(os.listdir(estados_path))\n",
    "    # guardamos bases y catalogos\n",
    "    balances = sorted([f for f in archivos if f.startswith('balances')])\n",
    "    catalogos = sorted([f for f in archivos if f.startswith('catalogo')])\n",
    "\n",
    "    for balance, catalogo in zip(balances, catalogos):\n",
    "        \n",
    "        print(f\"Trabajando en: {balance} y el catalogo {catalogo}\")\n",
    "        base_path = os.path.join(estados_path, balance)\n",
    "        catalogo_path = os.path.join(estados_path, catalogo)\n",
    "\n",
    "        # Cargamos datos\n",
    "        base = pd.read_csv(base_path, encoding='latin1', sep='\\t')\n",
    "        cat = pd.read_csv(catalogo_path, encoding='latin1', sep='\\t', header=None)\n",
    "\n",
    "        # Eliminamos la última columan si es necesario\n",
    "        print(f\"Estado de las bases: {len(cat) + 7 == len(base.columns)}\")\n",
    "\n",
    "        if len(cat) + 7 == len(base.columns):\n",
    "            base.columns = columnas_fijas + cat[1].tolist()\n",
    "        else:\n",
    "            base = base[list(base.columns)[:-1]]\n",
    "            try:\n",
    "                base.columns = columnas_fijas + cat[1].tolist()\n",
    "            except:\n",
    "                continue\n",
    "\n",
    "        print(\"Guardando base: \\n\", balance)\n",
    "        base.to_csv(f'datos/{ano}_{balance}.csv', index=False)\n",
    "\n",
    "print(\"Terminado\")"
   ]
  },
  {
   "cell_type": "code",
   "execution_count": 92,
   "metadata": {},
   "outputs": [],
   "source": [
    "catalogos_df = pd.DataFrame()"
   ]
  },
  {
   "cell_type": "code",
   "execution_count": 93,
   "metadata": {},
   "outputs": [
    {
     "name": "stdout",
     "output_type": "stream",
     "text": [
      "Trabajando en:  /media/edu/f4b771c7-3249-4558-9253-71690dfee7d0/datos/raw/extraidos/estadosFinancieros_2000\n",
      "Trabajando en: catalogo_2000_1.txt\n",
      "Trabajando en: catalogo_2000_2.txt\n",
      "Trabajando en: catalogo_2000_3.txt\n",
      "Trabajando en: catalogo_2000_4.txt\n",
      "Trabajando en: catalogo_2000_5.txt\n",
      "Trabajando en: catalogo_2000_6.txt\n",
      "Trabajando en: catalogo_2000_7.txt\n",
      "Trabajando en:  /media/edu/f4b771c7-3249-4558-9253-71690dfee7d0/datos/raw/extraidos/estadosFinancieros_2001\n",
      "Trabajando en: catalogo_2001_1.txt\n",
      "Trabajando en: catalogo_2001_2.txt\n",
      "Trabajando en: catalogo_2001_3.txt\n",
      "Trabajando en: catalogo_2001_4.txt\n",
      "Trabajando en: catalogo_2001_5.txt\n",
      "Trabajando en: catalogo_2001_6.txt\n",
      "Trabajando en:  /media/edu/f4b771c7-3249-4558-9253-71690dfee7d0/datos/raw/extraidos/estadosFinancieros_2002\n",
      "Trabajando en: catalogo_2002_1.txt\n",
      "Trabajando en: catalogo_2002_2.txt\n",
      "Trabajando en: catalogo_2002_3.txt\n",
      "Trabajando en: catalogo_2002_4.txt\n",
      "Trabajando en: catalogo_2002_5.txt\n",
      "Trabajando en: catalogo_2002_6.txt\n",
      "Trabajando en: catalogo_2002_7.txt\n",
      "Trabajando en:  /media/edu/f4b771c7-3249-4558-9253-71690dfee7d0/datos/raw/extraidos/estadosFinancieros_2003\n",
      "Trabajando en: catalogo_2003_1.txt\n",
      "Trabajando en: catalogo_2003_2.txt\n",
      "Trabajando en: catalogo_2003_3.txt\n",
      "Trabajando en: catalogo_2003_4.txt\n",
      "Trabajando en: catalogo_2003_5.txt\n",
      "Trabajando en:  /media/edu/f4b771c7-3249-4558-9253-71690dfee7d0/datos/raw/extraidos/estadosFinancieros_2004\n",
      "Trabajando en: catalogo_2004_1.txt\n",
      "Trabajando en: catalogo_2004_2.txt\n",
      "Trabajando en: catalogo_2004_3.txt\n",
      "Trabajando en: catalogo_2004_4.txt\n",
      "Trabajando en: catalogo_2004_5.txt\n",
      "Trabajando en: catalogo_2004_6.txt\n",
      "Trabajando en:  /media/edu/f4b771c7-3249-4558-9253-71690dfee7d0/datos/raw/extraidos/estadosFinancieros_2005\n",
      "Trabajando en: catalogo_2005_1.txt\n",
      "Trabajando en: catalogo_2005_2.txt\n",
      "Trabajando en: catalogo_2005_3.txt\n",
      "Trabajando en: catalogo_2005_4.txt\n",
      "Trabajando en: catalogo_2005_5.txt\n",
      "Trabajando en: catalogo_2005_6.txt\n",
      "Trabajando en:  /media/edu/f4b771c7-3249-4558-9253-71690dfee7d0/datos/raw/extraidos/estadosFinancieros_2006\n",
      "Trabajando en: catalogo_2006_1.txt\n",
      "Trabajando en: catalogo_2006_2.txt\n",
      "Trabajando en: catalogo_2006_3.txt\n",
      "Trabajando en: catalogo_2006_4.txt\n",
      "Trabajando en:  /media/edu/f4b771c7-3249-4558-9253-71690dfee7d0/datos/raw/extraidos/estadosFinancieros_2007\n",
      "Trabajando en: catalogo_2007_1.txt\n",
      "Trabajando en: catalogo_2007_2.txt\n",
      "Trabajando en: catalogo_2007_3.txt\n",
      "Trabajando en: catalogo_2007_4.txt\n",
      "Trabajando en:  /media/edu/f4b771c7-3249-4558-9253-71690dfee7d0/datos/raw/extraidos/estadosFinancieros_2008\n",
      "Trabajando en: catalogo_2008_1.txt\n",
      "Trabajando en: catalogo_2008_2.txt\n",
      "Trabajando en: catalogo_2008_3.txt\n",
      "Trabajando en: catalogo_2008_4.txt\n",
      "Trabajando en:  /media/edu/f4b771c7-3249-4558-9253-71690dfee7d0/datos/raw/extraidos/estadosFinancieros_2009\n",
      "Trabajando en: catalogo_2009_1.txt\n",
      "Trabajando en: catalogo_2009_2.txt\n",
      "Trabajando en: catalogo_2009_3.txt\n",
      "Trabajando en: catalogo_2009_4.txt\n",
      "Trabajando en: catalogo_2009_5.txt\n",
      "Trabajando en: catalogo_2009_6.txt\n",
      "Trabajando en:  /media/edu/f4b771c7-3249-4558-9253-71690dfee7d0/datos/raw/extraidos/estadosFinancieros_2010\n",
      "Trabajando en: catalogo_2010_1.txt\n",
      "Trabajando en: catalogo_2010_2.txt\n",
      "Trabajando en: catalogo_2010_3.txt\n",
      "Trabajando en: catalogo_2010_4.txt\n",
      "Trabajando en: catalogo_2010_5.txt\n",
      "Trabajando en:  /media/edu/f4b771c7-3249-4558-9253-71690dfee7d0/datos/raw/extraidos/estadosFinancieros_2011\n",
      "Trabajando en: catalogo_2011_1.txt\n",
      "Trabajando en: catalogo_2011_2.txt\n",
      "Trabajando en: catalogo_2011_3.txt\n",
      "Trabajando en: catalogo_2011_4.txt\n",
      "Trabajando en: catalogo_2011_5.txt\n",
      "Trabajando en: catalogo_2011_6.txt\n",
      "Trabajando en:  /media/edu/f4b771c7-3249-4558-9253-71690dfee7d0/datos/raw/extraidos/estadosFinancieros_2012\n",
      "Trabajando en: catalogo_2012_1.txt\n",
      "Trabajando en: catalogo_2012_2.txt\n",
      "Trabajando en: catalogo_2012_3.txt\n",
      "Trabajando en: catalogo_2012_4.txt\n",
      "Trabajando en:  /media/edu/f4b771c7-3249-4558-9253-71690dfee7d0/datos/raw/extraidos/estadosFinancieros_2013\n",
      "Trabajando en: catalogo_2013_1.txt\n",
      "Trabajando en: catalogo_2013_2.txt\n",
      "Trabajando en: catalogo_2013_3.txt\n",
      "Trabajando en:  /media/edu/f4b771c7-3249-4558-9253-71690dfee7d0/datos/raw/extraidos/estadosFinancieros_2014\n",
      "Trabajando en: catalogo_2014_1.txt\n",
      "Trabajando en: catalogo_2014_2.txt\n",
      "Trabajando en: catalogo_2014_3.txt\n",
      "Trabajando en: catalogo_2014_4.txt\n",
      "Trabajando en: catalogo_2014_5.txt\n",
      "Trabajando en: catalogo_2014_6.txt\n",
      "Trabajando en: catalogo_2014_7.txt\n",
      "Trabajando en: catalogo_2014_8.txt\n",
      "Trabajando en:  /media/edu/f4b771c7-3249-4558-9253-71690dfee7d0/datos/raw/extraidos/estadosFinancieros_2015\n",
      "Trabajando en: catalogo_2015_1.txt\n",
      "Trabajando en: catalogo_2015_2.txt\n",
      "Trabajando en: catalogo_2015_3.txt\n",
      "Trabajando en: catalogo_2015_4.txt\n",
      "Trabajando en: catalogo_2015_5.txt\n",
      "Trabajando en: catalogo_2015_6.txt\n",
      "Trabajando en: catalogo_2015_7.txt\n",
      "Trabajando en: catalogo_2015_8.txt\n",
      "Trabajando en:  /media/edu/f4b771c7-3249-4558-9253-71690dfee7d0/datos/raw/extraidos/estadosFinancieros_2016\n",
      "Trabajando en: catalogo_2016_1.txt\n",
      "Trabajando en: catalogo_2016_2.txt\n",
      "Trabajando en: catalogo_2016_3.txt\n",
      "Trabajando en: catalogo_2016_4.txt\n",
      "Trabajando en: catalogo_2016_5.txt\n",
      "Trabajando en: catalogo_2016_6.txt\n",
      "Trabajando en: catalogo_2016_7.txt\n",
      "Trabajando en:  /media/edu/f4b771c7-3249-4558-9253-71690dfee7d0/datos/raw/extraidos/estadosFinancieros_2017\n",
      "Trabajando en: catalogo_2017_1.txt\n",
      "Trabajando en: catalogo_2017_2.txt\n",
      "Trabajando en: catalogo_2017_3.txt\n",
      "Trabajando en: catalogo_2017_4.txt\n",
      "Trabajando en: catalogo_2017_5.txt\n",
      "Trabajando en: catalogo_2017_6.txt\n",
      "Trabajando en:  /media/edu/f4b771c7-3249-4558-9253-71690dfee7d0/datos/raw/extraidos/estadosFinancieros_2018\n",
      "Trabajando en: catalogo_2018_1.txt\n",
      "Trabajando en: catalogo_2018_2.txt\n",
      "Trabajando en: catalogo_2018_3.txt\n",
      "Trabajando en: catalogo_2018_4.txt\n",
      "Trabajando en: catalogo_2018_5.txt\n",
      "Trabajando en:  /media/edu/f4b771c7-3249-4558-9253-71690dfee7d0/datos/raw/extraidos/estadosFinancieros_2019\n",
      "Trabajando en: catalogo_2019_1.txt\n",
      "Trabajando en: catalogo_2019_2.txt\n",
      "Trabajando en: catalogo_2019_3.txt\n",
      "Trabajando en: catalogo_2019_4.txt\n",
      "Trabajando en: catalogo_2019_5.txt\n",
      "Trabajando en:  /media/edu/f4b771c7-3249-4558-9253-71690dfee7d0/datos/raw/extraidos/estadosFinancieros_2020\n",
      "Trabajando en: catalogo_2020_1.txt\n",
      "Trabajando en: catalogo_2020_2.txt\n",
      "Trabajando en: catalogo_2020_3.txt\n",
      "Trabajando en:  /media/edu/f4b771c7-3249-4558-9253-71690dfee7d0/datos/raw/extraidos/estadosFinancieros_2021\n",
      "Trabajando en: catalogo_2021_1.txt\n",
      "Trabajando en: catalogo_2021_2.txt\n",
      "Trabajando en: catalogo_2021_3.txt\n",
      "Trabajando en:  /media/edu/f4b771c7-3249-4558-9253-71690dfee7d0/datos/raw/extraidos/estadosFinancieros_2022\n",
      "Trabajando en: catalogo_2022_1.txt\n",
      "Trabajando en: catalogo_2022_2.txt\n",
      "Trabajando en: catalogo_2022_3.txt\n",
      "Trabajando en:  /media/edu/f4b771c7-3249-4558-9253-71690dfee7d0/datos/raw/extraidos/estadosFinancieros_2023\n",
      "Trabajando en: catalogo_2023_1.txt\n",
      "Trabajando en: catalogo_2023_2.txt\n",
      "Trabajando en:  /media/edu/f4b771c7-3249-4558-9253-71690dfee7d0/datos/raw/extraidos/estadosFinancieros_2024\n",
      "Trabajando en: catalogo_2024_1.txt\n",
      "Catálogos combinados. Dimensiones finales: (125, 124)\n"
     ]
    },
    {
     "name": "stderr",
     "output_type": "stream",
     "text": [
      "/tmp/ipykernel_84692/2664095542.py:20: PerformanceWarning: DataFrame is highly fragmented.  This is usually the result of calling `frame.insert` many times, which has poor performance.  Consider joining all columns at once using pd.concat(axis=1) instead. To get a de-fragmented frame, use `newframe = frame.copy()`\n",
      "  catalogos_df[col_name] = cat[1]\n",
      "/tmp/ipykernel_84692/2664095542.py:20: PerformanceWarning: DataFrame is highly fragmented.  This is usually the result of calling `frame.insert` many times, which has poor performance.  Consider joining all columns at once using pd.concat(axis=1) instead. To get a de-fragmented frame, use `newframe = frame.copy()`\n",
      "  catalogos_df[col_name] = cat[1]\n",
      "/tmp/ipykernel_84692/2664095542.py:20: PerformanceWarning: DataFrame is highly fragmented.  This is usually the result of calling `frame.insert` many times, which has poor performance.  Consider joining all columns at once using pd.concat(axis=1) instead. To get a de-fragmented frame, use `newframe = frame.copy()`\n",
      "  catalogos_df[col_name] = cat[1]\n",
      "/tmp/ipykernel_84692/2664095542.py:20: PerformanceWarning: DataFrame is highly fragmented.  This is usually the result of calling `frame.insert` many times, which has poor performance.  Consider joining all columns at once using pd.concat(axis=1) instead. To get a de-fragmented frame, use `newframe = frame.copy()`\n",
      "  catalogos_df[col_name] = cat[1]\n",
      "/tmp/ipykernel_84692/2664095542.py:20: PerformanceWarning: DataFrame is highly fragmented.  This is usually the result of calling `frame.insert` many times, which has poor performance.  Consider joining all columns at once using pd.concat(axis=1) instead. To get a de-fragmented frame, use `newframe = frame.copy()`\n",
      "  catalogos_df[col_name] = cat[1]\n",
      "/tmp/ipykernel_84692/2664095542.py:20: PerformanceWarning: DataFrame is highly fragmented.  This is usually the result of calling `frame.insert` many times, which has poor performance.  Consider joining all columns at once using pd.concat(axis=1) instead. To get a de-fragmented frame, use `newframe = frame.copy()`\n",
      "  catalogos_df[col_name] = cat[1]\n",
      "/tmp/ipykernel_84692/2664095542.py:20: PerformanceWarning: DataFrame is highly fragmented.  This is usually the result of calling `frame.insert` many times, which has poor performance.  Consider joining all columns at once using pd.concat(axis=1) instead. To get a de-fragmented frame, use `newframe = frame.copy()`\n",
      "  catalogos_df[col_name] = cat[1]\n",
      "/tmp/ipykernel_84692/2664095542.py:20: PerformanceWarning: DataFrame is highly fragmented.  This is usually the result of calling `frame.insert` many times, which has poor performance.  Consider joining all columns at once using pd.concat(axis=1) instead. To get a de-fragmented frame, use `newframe = frame.copy()`\n",
      "  catalogos_df[col_name] = cat[1]\n",
      "/tmp/ipykernel_84692/2664095542.py:20: PerformanceWarning: DataFrame is highly fragmented.  This is usually the result of calling `frame.insert` many times, which has poor performance.  Consider joining all columns at once using pd.concat(axis=1) instead. To get a de-fragmented frame, use `newframe = frame.copy()`\n",
      "  catalogos_df[col_name] = cat[1]\n",
      "/tmp/ipykernel_84692/2664095542.py:20: PerformanceWarning: DataFrame is highly fragmented.  This is usually the result of calling `frame.insert` many times, which has poor performance.  Consider joining all columns at once using pd.concat(axis=1) instead. To get a de-fragmented frame, use `newframe = frame.copy()`\n",
      "  catalogos_df[col_name] = cat[1]\n",
      "/tmp/ipykernel_84692/2664095542.py:20: PerformanceWarning: DataFrame is highly fragmented.  This is usually the result of calling `frame.insert` many times, which has poor performance.  Consider joining all columns at once using pd.concat(axis=1) instead. To get a de-fragmented frame, use `newframe = frame.copy()`\n",
      "  catalogos_df[col_name] = cat[1]\n",
      "/tmp/ipykernel_84692/2664095542.py:20: PerformanceWarning: DataFrame is highly fragmented.  This is usually the result of calling `frame.insert` many times, which has poor performance.  Consider joining all columns at once using pd.concat(axis=1) instead. To get a de-fragmented frame, use `newframe = frame.copy()`\n",
      "  catalogos_df[col_name] = cat[1]\n",
      "/tmp/ipykernel_84692/2664095542.py:20: PerformanceWarning: DataFrame is highly fragmented.  This is usually the result of calling `frame.insert` many times, which has poor performance.  Consider joining all columns at once using pd.concat(axis=1) instead. To get a de-fragmented frame, use `newframe = frame.copy()`\n",
      "  catalogos_df[col_name] = cat[1]\n",
      "/tmp/ipykernel_84692/2664095542.py:20: PerformanceWarning: DataFrame is highly fragmented.  This is usually the result of calling `frame.insert` many times, which has poor performance.  Consider joining all columns at once using pd.concat(axis=1) instead. To get a de-fragmented frame, use `newframe = frame.copy()`\n",
      "  catalogos_df[col_name] = cat[1]\n",
      "/tmp/ipykernel_84692/2664095542.py:20: PerformanceWarning: DataFrame is highly fragmented.  This is usually the result of calling `frame.insert` many times, which has poor performance.  Consider joining all columns at once using pd.concat(axis=1) instead. To get a de-fragmented frame, use `newframe = frame.copy()`\n",
      "  catalogos_df[col_name] = cat[1]\n",
      "/tmp/ipykernel_84692/2664095542.py:20: PerformanceWarning: DataFrame is highly fragmented.  This is usually the result of calling `frame.insert` many times, which has poor performance.  Consider joining all columns at once using pd.concat(axis=1) instead. To get a de-fragmented frame, use `newframe = frame.copy()`\n",
      "  catalogos_df[col_name] = cat[1]\n",
      "/tmp/ipykernel_84692/2664095542.py:20: PerformanceWarning: DataFrame is highly fragmented.  This is usually the result of calling `frame.insert` many times, which has poor performance.  Consider joining all columns at once using pd.concat(axis=1) instead. To get a de-fragmented frame, use `newframe = frame.copy()`\n",
      "  catalogos_df[col_name] = cat[1]\n",
      "/tmp/ipykernel_84692/2664095542.py:20: PerformanceWarning: DataFrame is highly fragmented.  This is usually the result of calling `frame.insert` many times, which has poor performance.  Consider joining all columns at once using pd.concat(axis=1) instead. To get a de-fragmented frame, use `newframe = frame.copy()`\n",
      "  catalogos_df[col_name] = cat[1]\n",
      "/tmp/ipykernel_84692/2664095542.py:20: PerformanceWarning: DataFrame is highly fragmented.  This is usually the result of calling `frame.insert` many times, which has poor performance.  Consider joining all columns at once using pd.concat(axis=1) instead. To get a de-fragmented frame, use `newframe = frame.copy()`\n",
      "  catalogos_df[col_name] = cat[1]\n",
      "/tmp/ipykernel_84692/2664095542.py:20: PerformanceWarning: DataFrame is highly fragmented.  This is usually the result of calling `frame.insert` many times, which has poor performance.  Consider joining all columns at once using pd.concat(axis=1) instead. To get a de-fragmented frame, use `newframe = frame.copy()`\n",
      "  catalogos_df[col_name] = cat[1]\n",
      "/tmp/ipykernel_84692/2664095542.py:20: PerformanceWarning: DataFrame is highly fragmented.  This is usually the result of calling `frame.insert` many times, which has poor performance.  Consider joining all columns at once using pd.concat(axis=1) instead. To get a de-fragmented frame, use `newframe = frame.copy()`\n",
      "  catalogos_df[col_name] = cat[1]\n",
      "/tmp/ipykernel_84692/2664095542.py:20: PerformanceWarning: DataFrame is highly fragmented.  This is usually the result of calling `frame.insert` many times, which has poor performance.  Consider joining all columns at once using pd.concat(axis=1) instead. To get a de-fragmented frame, use `newframe = frame.copy()`\n",
      "  catalogos_df[col_name] = cat[1]\n",
      "/tmp/ipykernel_84692/2664095542.py:20: PerformanceWarning: DataFrame is highly fragmented.  This is usually the result of calling `frame.insert` many times, which has poor performance.  Consider joining all columns at once using pd.concat(axis=1) instead. To get a de-fragmented frame, use `newframe = frame.copy()`\n",
      "  catalogos_df[col_name] = cat[1]\n",
      "/tmp/ipykernel_84692/2664095542.py:20: PerformanceWarning: DataFrame is highly fragmented.  This is usually the result of calling `frame.insert` many times, which has poor performance.  Consider joining all columns at once using pd.concat(axis=1) instead. To get a de-fragmented frame, use `newframe = frame.copy()`\n",
      "  catalogos_df[col_name] = cat[1]\n"
     ]
    }
   ],
   "source": [
    "# Loop años y archivos\n",
    "for ano in anos:\n",
    "    estados_path = os.path.join(path, ano)\n",
    "    print(\"Trabajando en: \", estados_path)\n",
    "\n",
    "    archivos = sorted(os.listdir(estados_path))\n",
    "    catalogos = sorted([f for f in archivos if f.startswith('catalogo')])\n",
    "\n",
    "    for catalogo in catalogos:\n",
    "        print(f\"Trabajando en: {catalogo}\")\n",
    "        catalogo_path = os.path.join(estados_path, catalogo)\n",
    "\n",
    "        # Load catalogo\n",
    "        cat = pd.read_csv(catalogo_path, encoding='latin1', sep='\\t', header=None)\n",
    "\n",
    "        # Create a label for the column: e.g. '2000_catalogo_1'\n",
    "        col_name = f\"{catalogo.replace('.txt', '')}\"\n",
    "\n",
    "        # Add just cat[1] as a column in the final DataFrame\n",
    "        catalogos_df[col_name] = cat[1]\n",
    "\n",
    "print(\"Catálogos combinados. Dimensiones finales:\", catalogos_df.shape)\n"
   ]
  },
  {
   "cell_type": "code",
   "execution_count": 96,
   "metadata": {},
   "outputs": [],
   "source": [
    "catalogos_df.to_excel('datos/catalogos.xlsx')"
   ]
  }
 ],
 "metadata": {
  "kernelspec": {
   "display_name": "usr",
   "language": "python",
   "name": "python3"
  },
  "language_info": {
   "codemirror_mode": {
    "name": "ipython",
    "version": 3
   },
   "file_extension": ".py",
   "mimetype": "text/x-python",
   "name": "python",
   "nbconvert_exporter": "python",
   "pygments_lexer": "ipython3",
   "version": "3.12.3"
  }
 },
 "nbformat": 4,
 "nbformat_minor": 2
}
